{
  "nbformat": 4,
  "nbformat_minor": 0,
  "metadata": {
    "colab": {
      "provenance": []
    },
    "kernelspec": {
      "name": "python3",
      "display_name": "Python 3"
    },
    "language_info": {
      "name": "python"
    }
  },
  "cells": [
    {
      "cell_type": "code",
      "execution_count": 1,
      "metadata": {
        "id": "MTtqg8HyGPU3"
      },
      "outputs": [],
      "source": [
        "import numpy as np\n",
        "import pandas as pd"
      ]
    },
    {
      "cell_type": "code",
      "source": [
        "df = pd.read_csv('diabetes.csv')\n",
        "df.head()"
      ],
      "metadata": {
        "colab": {
          "base_uri": "https://localhost:8080/",
          "height": 206
        },
        "id": "mu02tl-rGu8C",
        "outputId": "22c91e1b-620e-42ae-dab2-b477e5de68ee"
      },
      "execution_count": 2,
      "outputs": [
        {
          "output_type": "execute_result",
          "data": {
            "text/plain": [
              "   Pregnancies  Glucose  BloodPressure  SkinThickness  Insulin   BMI  \\\n",
              "0            6      148             72             35        0  33.6   \n",
              "1            1       85             66             29        0  26.6   \n",
              "2            8      183             64              0        0  23.3   \n",
              "3            1       89             66             23       94  28.1   \n",
              "4            0      137             40             35      168  43.1   \n",
              "\n",
              "   DiabetesPedigreeFunction  Age  Outcome  \n",
              "0                     0.627   50        1  \n",
              "1                     0.351   31        0  \n",
              "2                     0.672   32        1  \n",
              "3                     0.167   21        0  \n",
              "4                     2.288   33        1  "
            ],
            "text/html": [
              "\n",
              "  <div id=\"df-fc037320-6cc5-4f21-8999-f53178ebccf2\" class=\"colab-df-container\">\n",
              "    <div>\n",
              "<style scoped>\n",
              "    .dataframe tbody tr th:only-of-type {\n",
              "        vertical-align: middle;\n",
              "    }\n",
              "\n",
              "    .dataframe tbody tr th {\n",
              "        vertical-align: top;\n",
              "    }\n",
              "\n",
              "    .dataframe thead th {\n",
              "        text-align: right;\n",
              "    }\n",
              "</style>\n",
              "<table border=\"1\" class=\"dataframe\">\n",
              "  <thead>\n",
              "    <tr style=\"text-align: right;\">\n",
              "      <th></th>\n",
              "      <th>Pregnancies</th>\n",
              "      <th>Glucose</th>\n",
              "      <th>BloodPressure</th>\n",
              "      <th>SkinThickness</th>\n",
              "      <th>Insulin</th>\n",
              "      <th>BMI</th>\n",
              "      <th>DiabetesPedigreeFunction</th>\n",
              "      <th>Age</th>\n",
              "      <th>Outcome</th>\n",
              "    </tr>\n",
              "  </thead>\n",
              "  <tbody>\n",
              "    <tr>\n",
              "      <th>0</th>\n",
              "      <td>6</td>\n",
              "      <td>148</td>\n",
              "      <td>72</td>\n",
              "      <td>35</td>\n",
              "      <td>0</td>\n",
              "      <td>33.6</td>\n",
              "      <td>0.627</td>\n",
              "      <td>50</td>\n",
              "      <td>1</td>\n",
              "    </tr>\n",
              "    <tr>\n",
              "      <th>1</th>\n",
              "      <td>1</td>\n",
              "      <td>85</td>\n",
              "      <td>66</td>\n",
              "      <td>29</td>\n",
              "      <td>0</td>\n",
              "      <td>26.6</td>\n",
              "      <td>0.351</td>\n",
              "      <td>31</td>\n",
              "      <td>0</td>\n",
              "    </tr>\n",
              "    <tr>\n",
              "      <th>2</th>\n",
              "      <td>8</td>\n",
              "      <td>183</td>\n",
              "      <td>64</td>\n",
              "      <td>0</td>\n",
              "      <td>0</td>\n",
              "      <td>23.3</td>\n",
              "      <td>0.672</td>\n",
              "      <td>32</td>\n",
              "      <td>1</td>\n",
              "    </tr>\n",
              "    <tr>\n",
              "      <th>3</th>\n",
              "      <td>1</td>\n",
              "      <td>89</td>\n",
              "      <td>66</td>\n",
              "      <td>23</td>\n",
              "      <td>94</td>\n",
              "      <td>28.1</td>\n",
              "      <td>0.167</td>\n",
              "      <td>21</td>\n",
              "      <td>0</td>\n",
              "    </tr>\n",
              "    <tr>\n",
              "      <th>4</th>\n",
              "      <td>0</td>\n",
              "      <td>137</td>\n",
              "      <td>40</td>\n",
              "      <td>35</td>\n",
              "      <td>168</td>\n",
              "      <td>43.1</td>\n",
              "      <td>2.288</td>\n",
              "      <td>33</td>\n",
              "      <td>1</td>\n",
              "    </tr>\n",
              "  </tbody>\n",
              "</table>\n",
              "</div>\n",
              "    <div class=\"colab-df-buttons\">\n",
              "\n",
              "  <div class=\"colab-df-container\">\n",
              "    <button class=\"colab-df-convert\" onclick=\"convertToInteractive('df-fc037320-6cc5-4f21-8999-f53178ebccf2')\"\n",
              "            title=\"Convert this dataframe to an interactive table.\"\n",
              "            style=\"display:none;\">\n",
              "\n",
              "  <svg xmlns=\"http://www.w3.org/2000/svg\" height=\"24px\" viewBox=\"0 -960 960 960\">\n",
              "    <path d=\"M120-120v-720h720v720H120Zm60-500h600v-160H180v160Zm220 220h160v-160H400v160Zm0 220h160v-160H400v160ZM180-400h160v-160H180v160Zm440 0h160v-160H620v160ZM180-180h160v-160H180v160Zm440 0h160v-160H620v160Z\"/>\n",
              "  </svg>\n",
              "    </button>\n",
              "\n",
              "  <style>\n",
              "    .colab-df-container {\n",
              "      display:flex;\n",
              "      gap: 12px;\n",
              "    }\n",
              "\n",
              "    .colab-df-convert {\n",
              "      background-color: #E8F0FE;\n",
              "      border: none;\n",
              "      border-radius: 50%;\n",
              "      cursor: pointer;\n",
              "      display: none;\n",
              "      fill: #1967D2;\n",
              "      height: 32px;\n",
              "      padding: 0 0 0 0;\n",
              "      width: 32px;\n",
              "    }\n",
              "\n",
              "    .colab-df-convert:hover {\n",
              "      background-color: #E2EBFA;\n",
              "      box-shadow: 0px 1px 2px rgba(60, 64, 67, 0.3), 0px 1px 3px 1px rgba(60, 64, 67, 0.15);\n",
              "      fill: #174EA6;\n",
              "    }\n",
              "\n",
              "    .colab-df-buttons div {\n",
              "      margin-bottom: 4px;\n",
              "    }\n",
              "\n",
              "    [theme=dark] .colab-df-convert {\n",
              "      background-color: #3B4455;\n",
              "      fill: #D2E3FC;\n",
              "    }\n",
              "\n",
              "    [theme=dark] .colab-df-convert:hover {\n",
              "      background-color: #434B5C;\n",
              "      box-shadow: 0px 1px 3px 1px rgba(0, 0, 0, 0.15);\n",
              "      filter: drop-shadow(0px 1px 2px rgba(0, 0, 0, 0.3));\n",
              "      fill: #FFFFFF;\n",
              "    }\n",
              "  </style>\n",
              "\n",
              "    <script>\n",
              "      const buttonEl =\n",
              "        document.querySelector('#df-fc037320-6cc5-4f21-8999-f53178ebccf2 button.colab-df-convert');\n",
              "      buttonEl.style.display =\n",
              "        google.colab.kernel.accessAllowed ? 'block' : 'none';\n",
              "\n",
              "      async function convertToInteractive(key) {\n",
              "        const element = document.querySelector('#df-fc037320-6cc5-4f21-8999-f53178ebccf2');\n",
              "        const dataTable =\n",
              "          await google.colab.kernel.invokeFunction('convertToInteractive',\n",
              "                                                    [key], {});\n",
              "        if (!dataTable) return;\n",
              "\n",
              "        const docLinkHtml = 'Like what you see? Visit the ' +\n",
              "          '<a target=\"_blank\" href=https://colab.research.google.com/notebooks/data_table.ipynb>data table notebook</a>'\n",
              "          + ' to learn more about interactive tables.';\n",
              "        element.innerHTML = '';\n",
              "        dataTable['output_type'] = 'display_data';\n",
              "        await google.colab.output.renderOutput(dataTable, element);\n",
              "        const docLink = document.createElement('div');\n",
              "        docLink.innerHTML = docLinkHtml;\n",
              "        element.appendChild(docLink);\n",
              "      }\n",
              "    </script>\n",
              "  </div>\n",
              "\n",
              "\n",
              "<div id=\"df-2c985d4e-5535-4a47-ad10-8d5f097c9975\">\n",
              "  <button class=\"colab-df-quickchart\" onclick=\"quickchart('df-2c985d4e-5535-4a47-ad10-8d5f097c9975')\"\n",
              "            title=\"Suggest charts\"\n",
              "            style=\"display:none;\">\n",
              "\n",
              "<svg xmlns=\"http://www.w3.org/2000/svg\" height=\"24px\"viewBox=\"0 0 24 24\"\n",
              "     width=\"24px\">\n",
              "    <g>\n",
              "        <path d=\"M19 3H5c-1.1 0-2 .9-2 2v14c0 1.1.9 2 2 2h14c1.1 0 2-.9 2-2V5c0-1.1-.9-2-2-2zM9 17H7v-7h2v7zm4 0h-2V7h2v10zm4 0h-2v-4h2v4z\"/>\n",
              "    </g>\n",
              "</svg>\n",
              "  </button>\n",
              "\n",
              "<style>\n",
              "  .colab-df-quickchart {\n",
              "      --bg-color: #E8F0FE;\n",
              "      --fill-color: #1967D2;\n",
              "      --hover-bg-color: #E2EBFA;\n",
              "      --hover-fill-color: #174EA6;\n",
              "      --disabled-fill-color: #AAA;\n",
              "      --disabled-bg-color: #DDD;\n",
              "  }\n",
              "\n",
              "  [theme=dark] .colab-df-quickchart {\n",
              "      --bg-color: #3B4455;\n",
              "      --fill-color: #D2E3FC;\n",
              "      --hover-bg-color: #434B5C;\n",
              "      --hover-fill-color: #FFFFFF;\n",
              "      --disabled-bg-color: #3B4455;\n",
              "      --disabled-fill-color: #666;\n",
              "  }\n",
              "\n",
              "  .colab-df-quickchart {\n",
              "    background-color: var(--bg-color);\n",
              "    border: none;\n",
              "    border-radius: 50%;\n",
              "    cursor: pointer;\n",
              "    display: none;\n",
              "    fill: var(--fill-color);\n",
              "    height: 32px;\n",
              "    padding: 0;\n",
              "    width: 32px;\n",
              "  }\n",
              "\n",
              "  .colab-df-quickchart:hover {\n",
              "    background-color: var(--hover-bg-color);\n",
              "    box-shadow: 0 1px 2px rgba(60, 64, 67, 0.3), 0 1px 3px 1px rgba(60, 64, 67, 0.15);\n",
              "    fill: var(--button-hover-fill-color);\n",
              "  }\n",
              "\n",
              "  .colab-df-quickchart-complete:disabled,\n",
              "  .colab-df-quickchart-complete:disabled:hover {\n",
              "    background-color: var(--disabled-bg-color);\n",
              "    fill: var(--disabled-fill-color);\n",
              "    box-shadow: none;\n",
              "  }\n",
              "\n",
              "  .colab-df-spinner {\n",
              "    border: 2px solid var(--fill-color);\n",
              "    border-color: transparent;\n",
              "    border-bottom-color: var(--fill-color);\n",
              "    animation:\n",
              "      spin 1s steps(1) infinite;\n",
              "  }\n",
              "\n",
              "  @keyframes spin {\n",
              "    0% {\n",
              "      border-color: transparent;\n",
              "      border-bottom-color: var(--fill-color);\n",
              "      border-left-color: var(--fill-color);\n",
              "    }\n",
              "    20% {\n",
              "      border-color: transparent;\n",
              "      border-left-color: var(--fill-color);\n",
              "      border-top-color: var(--fill-color);\n",
              "    }\n",
              "    30% {\n",
              "      border-color: transparent;\n",
              "      border-left-color: var(--fill-color);\n",
              "      border-top-color: var(--fill-color);\n",
              "      border-right-color: var(--fill-color);\n",
              "    }\n",
              "    40% {\n",
              "      border-color: transparent;\n",
              "      border-right-color: var(--fill-color);\n",
              "      border-top-color: var(--fill-color);\n",
              "    }\n",
              "    60% {\n",
              "      border-color: transparent;\n",
              "      border-right-color: var(--fill-color);\n",
              "    }\n",
              "    80% {\n",
              "      border-color: transparent;\n",
              "      border-right-color: var(--fill-color);\n",
              "      border-bottom-color: var(--fill-color);\n",
              "    }\n",
              "    90% {\n",
              "      border-color: transparent;\n",
              "      border-bottom-color: var(--fill-color);\n",
              "    }\n",
              "  }\n",
              "</style>\n",
              "\n",
              "  <script>\n",
              "    async function quickchart(key) {\n",
              "      const quickchartButtonEl =\n",
              "        document.querySelector('#' + key + ' button');\n",
              "      quickchartButtonEl.disabled = true;  // To prevent multiple clicks.\n",
              "      quickchartButtonEl.classList.add('colab-df-spinner');\n",
              "      try {\n",
              "        const charts = await google.colab.kernel.invokeFunction(\n",
              "            'suggestCharts', [key], {});\n",
              "      } catch (error) {\n",
              "        console.error('Error during call to suggestCharts:', error);\n",
              "      }\n",
              "      quickchartButtonEl.classList.remove('colab-df-spinner');\n",
              "      quickchartButtonEl.classList.add('colab-df-quickchart-complete');\n",
              "    }\n",
              "    (() => {\n",
              "      let quickchartButtonEl =\n",
              "        document.querySelector('#df-2c985d4e-5535-4a47-ad10-8d5f097c9975 button');\n",
              "      quickchartButtonEl.style.display =\n",
              "        google.colab.kernel.accessAllowed ? 'block' : 'none';\n",
              "    })();\n",
              "  </script>\n",
              "</div>\n",
              "\n",
              "    </div>\n",
              "  </div>\n"
            ],
            "application/vnd.google.colaboratory.intrinsic+json": {
              "type": "dataframe",
              "variable_name": "df",
              "summary": "{\n  \"name\": \"df\",\n  \"rows\": 768,\n  \"fields\": [\n    {\n      \"column\": \"Pregnancies\",\n      \"properties\": {\n        \"dtype\": \"number\",\n        \"std\": 3,\n        \"min\": 0,\n        \"max\": 17,\n        \"num_unique_values\": 17,\n        \"samples\": [\n          6,\n          1,\n          3\n        ],\n        \"semantic_type\": \"\",\n        \"description\": \"\"\n      }\n    },\n    {\n      \"column\": \"Glucose\",\n      \"properties\": {\n        \"dtype\": \"number\",\n        \"std\": 31,\n        \"min\": 0,\n        \"max\": 199,\n        \"num_unique_values\": 136,\n        \"samples\": [\n          151,\n          101,\n          112\n        ],\n        \"semantic_type\": \"\",\n        \"description\": \"\"\n      }\n    },\n    {\n      \"column\": \"BloodPressure\",\n      \"properties\": {\n        \"dtype\": \"number\",\n        \"std\": 19,\n        \"min\": 0,\n        \"max\": 122,\n        \"num_unique_values\": 47,\n        \"samples\": [\n          86,\n          46,\n          85\n        ],\n        \"semantic_type\": \"\",\n        \"description\": \"\"\n      }\n    },\n    {\n      \"column\": \"SkinThickness\",\n      \"properties\": {\n        \"dtype\": \"number\",\n        \"std\": 15,\n        \"min\": 0,\n        \"max\": 99,\n        \"num_unique_values\": 51,\n        \"samples\": [\n          7,\n          12,\n          48\n        ],\n        \"semantic_type\": \"\",\n        \"description\": \"\"\n      }\n    },\n    {\n      \"column\": \"Insulin\",\n      \"properties\": {\n        \"dtype\": \"number\",\n        \"std\": 115,\n        \"min\": 0,\n        \"max\": 846,\n        \"num_unique_values\": 186,\n        \"samples\": [\n          52,\n          41,\n          183\n        ],\n        \"semantic_type\": \"\",\n        \"description\": \"\"\n      }\n    },\n    {\n      \"column\": \"BMI\",\n      \"properties\": {\n        \"dtype\": \"number\",\n        \"std\": 7.884160320375446,\n        \"min\": 0.0,\n        \"max\": 67.1,\n        \"num_unique_values\": 248,\n        \"samples\": [\n          19.9,\n          31.0,\n          38.1\n        ],\n        \"semantic_type\": \"\",\n        \"description\": \"\"\n      }\n    },\n    {\n      \"column\": \"DiabetesPedigreeFunction\",\n      \"properties\": {\n        \"dtype\": \"number\",\n        \"std\": 0.3313285950127749,\n        \"min\": 0.078,\n        \"max\": 2.42,\n        \"num_unique_values\": 517,\n        \"samples\": [\n          1.731,\n          0.426,\n          0.138\n        ],\n        \"semantic_type\": \"\",\n        \"description\": \"\"\n      }\n    },\n    {\n      \"column\": \"Age\",\n      \"properties\": {\n        \"dtype\": \"number\",\n        \"std\": 11,\n        \"min\": 21,\n        \"max\": 81,\n        \"num_unique_values\": 52,\n        \"samples\": [\n          60,\n          47,\n          72\n        ],\n        \"semantic_type\": \"\",\n        \"description\": \"\"\n      }\n    },\n    {\n      \"column\": \"Outcome\",\n      \"properties\": {\n        \"dtype\": \"number\",\n        \"std\": 0,\n        \"min\": 0,\n        \"max\": 1,\n        \"num_unique_values\": 2,\n        \"samples\": [\n          0,\n          1\n        ],\n        \"semantic_type\": \"\",\n        \"description\": \"\"\n      }\n    }\n  ]\n}"
            }
          },
          "metadata": {},
          "execution_count": 2
        }
      ]
    },
    {
      "cell_type": "code",
      "source": [
        "df.corr()['Outcome']"
      ],
      "metadata": {
        "colab": {
          "base_uri": "https://localhost:8080/"
        },
        "id": "Cb0EFJ39Gybi",
        "outputId": "7358372f-d614-4bb9-9773-eaf68c121192"
      },
      "execution_count": 3,
      "outputs": [
        {
          "output_type": "execute_result",
          "data": {
            "text/plain": [
              "Pregnancies                 0.221898\n",
              "Glucose                     0.466581\n",
              "BloodPressure               0.065068\n",
              "SkinThickness               0.074752\n",
              "Insulin                     0.130548\n",
              "BMI                         0.292695\n",
              "DiabetesPedigreeFunction    0.173844\n",
              "Age                         0.238356\n",
              "Outcome                     1.000000\n",
              "Name: Outcome, dtype: float64"
            ]
          },
          "metadata": {},
          "execution_count": 3
        }
      ]
    },
    {
      "cell_type": "code",
      "source": [
        "X = df.iloc[:,:-1].values\n",
        "y = df.iloc[:,-1].values"
      ],
      "metadata": {
        "id": "zXCla1GnG3_-"
      },
      "execution_count": 4,
      "outputs": []
    },
    {
      "cell_type": "code",
      "source": [
        "from sklearn.preprocessing import StandardScaler\n",
        "scaler = StandardScaler()"
      ],
      "metadata": {
        "id": "K2QMAjf2HA6l"
      },
      "execution_count": 5,
      "outputs": []
    },
    {
      "cell_type": "code",
      "source": [
        "X = scaler.fit_transform(X)"
      ],
      "metadata": {
        "id": "dQQTU11_HGJk"
      },
      "execution_count": 6,
      "outputs": []
    },
    {
      "cell_type": "code",
      "source": [
        "from sklearn.model_selection import train_test_split\n",
        "X_train, X_test, y_train, y_test = train_test_split(X,y,test_size=0.2, random_state=42)"
      ],
      "metadata": {
        "id": "jmETA-OLHIhc"
      },
      "execution_count": 7,
      "outputs": []
    },
    {
      "cell_type": "code",
      "source": [
        "!pip install keras-tuner -q"
      ],
      "metadata": {
        "id": "SdklqQw1HVdy",
        "colab": {
          "base_uri": "https://localhost:8080/"
        },
        "outputId": "a542b692-c178-4dfb-e307-300464ac2bec"
      },
      "execution_count": 8,
      "outputs": [
        {
          "output_type": "stream",
          "name": "stdout",
          "text": [
            "\u001b[?25l     \u001b[90m━━━━━━━━━━━━━━━━━━━━━━━━━━━━━━━━━━━━━━━━\u001b[0m \u001b[32m0.0/129.1 kB\u001b[0m \u001b[31m?\u001b[0m eta \u001b[36m-:--:--\u001b[0m\r\u001b[2K     \u001b[90m━━━━━━━━━━━━━━━━━━━━━━━━━━━━━━━━━━━━━━━━\u001b[0m \u001b[32m129.1/129.1 kB\u001b[0m \u001b[31m3.8 MB/s\u001b[0m eta \u001b[36m0:00:00\u001b[0m\n",
            "\u001b[?25h"
          ]
        }
      ]
    },
    {
      "cell_type": "code",
      "source": [
        "import tensorflow\n",
        "from tensorflow import keras\n",
        "from keras import Sequential\n",
        "from keras.layers import Dense, Dropout"
      ],
      "metadata": {
        "id": "XD0nILyPJz4a"
      },
      "execution_count": 9,
      "outputs": []
    },
    {
      "cell_type": "markdown",
      "source": [
        "# Without Hyperparameter Tuning"
      ],
      "metadata": {
        "id": "siJGdRq3KJPQ"
      }
    },
    {
      "cell_type": "code",
      "source": [
        "model = Sequential()\n",
        "model.add(Dense(32, activation='relu', input_dim=8))\n",
        "model.add(Dense(1, activation='sigmoid'))\n",
        "\n",
        "model.compile(optimizer='adam', loss='binary_crossentropy', metrics=['accuracy'])"
      ],
      "metadata": {
        "id": "inPlW9z8KIsf"
      },
      "execution_count": 10,
      "outputs": []
    },
    {
      "cell_type": "code",
      "source": [
        "model.fit(X_train, y_train, epochs=100, validation_data=(X_test, y_test))"
      ],
      "metadata": {
        "colab": {
          "base_uri": "https://localhost:8080/"
        },
        "id": "0k1fgsY2Kpgp",
        "outputId": "6b4bd34c-6ba3-41a4-97fd-8e777d89f33b"
      },
      "execution_count": 11,
      "outputs": [
        {
          "output_type": "stream",
          "name": "stdout",
          "text": [
            "Epoch 1/100\n",
            "20/20 [==============================] - 1s 18ms/step - loss: 0.6960 - accuracy: 0.5798 - val_loss: 0.6850 - val_accuracy: 0.6299\n",
            "Epoch 2/100\n",
            "20/20 [==============================] - 0s 4ms/step - loss: 0.6417 - accuracy: 0.6808 - val_loss: 0.6400 - val_accuracy: 0.7013\n",
            "Epoch 3/100\n",
            "20/20 [==============================] - 0s 5ms/step - loss: 0.6012 - accuracy: 0.7166 - val_loss: 0.6063 - val_accuracy: 0.7143\n",
            "Epoch 4/100\n",
            "20/20 [==============================] - 0s 3ms/step - loss: 0.5685 - accuracy: 0.7150 - val_loss: 0.5784 - val_accuracy: 0.7273\n",
            "Epoch 5/100\n",
            "20/20 [==============================] - 0s 5ms/step - loss: 0.5431 - accuracy: 0.7296 - val_loss: 0.5579 - val_accuracy: 0.7597\n",
            "Epoch 6/100\n",
            "20/20 [==============================] - 0s 5ms/step - loss: 0.5233 - accuracy: 0.7378 - val_loss: 0.5422 - val_accuracy: 0.7727\n",
            "Epoch 7/100\n",
            "20/20 [==============================] - 0s 5ms/step - loss: 0.5081 - accuracy: 0.7524 - val_loss: 0.5313 - val_accuracy: 0.7857\n",
            "Epoch 8/100\n",
            "20/20 [==============================] - 0s 5ms/step - loss: 0.4956 - accuracy: 0.7606 - val_loss: 0.5232 - val_accuracy: 0.7662\n",
            "Epoch 9/100\n",
            "20/20 [==============================] - 0s 6ms/step - loss: 0.4861 - accuracy: 0.7590 - val_loss: 0.5169 - val_accuracy: 0.7792\n",
            "Epoch 10/100\n",
            "20/20 [==============================] - 0s 5ms/step - loss: 0.4779 - accuracy: 0.7622 - val_loss: 0.5122 - val_accuracy: 0.7727\n",
            "Epoch 11/100\n",
            "20/20 [==============================] - 0s 6ms/step - loss: 0.4710 - accuracy: 0.7622 - val_loss: 0.5101 - val_accuracy: 0.7662\n",
            "Epoch 12/100\n",
            "20/20 [==============================] - 0s 6ms/step - loss: 0.4660 - accuracy: 0.7655 - val_loss: 0.5068 - val_accuracy: 0.7727\n",
            "Epoch 13/100\n",
            "20/20 [==============================] - 0s 6ms/step - loss: 0.4611 - accuracy: 0.7720 - val_loss: 0.5062 - val_accuracy: 0.7532\n",
            "Epoch 14/100\n",
            "20/20 [==============================] - 0s 5ms/step - loss: 0.4577 - accuracy: 0.7769 - val_loss: 0.5067 - val_accuracy: 0.7532\n",
            "Epoch 15/100\n",
            "20/20 [==============================] - 0s 5ms/step - loss: 0.4538 - accuracy: 0.7834 - val_loss: 0.5077 - val_accuracy: 0.7532\n",
            "Epoch 16/100\n",
            "20/20 [==============================] - 0s 5ms/step - loss: 0.4510 - accuracy: 0.7850 - val_loss: 0.5077 - val_accuracy: 0.7468\n",
            "Epoch 17/100\n",
            "20/20 [==============================] - 0s 5ms/step - loss: 0.4484 - accuracy: 0.7834 - val_loss: 0.5098 - val_accuracy: 0.7403\n",
            "Epoch 18/100\n",
            "20/20 [==============================] - 0s 5ms/step - loss: 0.4465 - accuracy: 0.7818 - val_loss: 0.5115 - val_accuracy: 0.7468\n",
            "Epoch 19/100\n",
            "20/20 [==============================] - 0s 5ms/step - loss: 0.4448 - accuracy: 0.7801 - val_loss: 0.5123 - val_accuracy: 0.7403\n",
            "Epoch 20/100\n",
            "20/20 [==============================] - 0s 6ms/step - loss: 0.4430 - accuracy: 0.7801 - val_loss: 0.5129 - val_accuracy: 0.7468\n",
            "Epoch 21/100\n",
            "20/20 [==============================] - 0s 14ms/step - loss: 0.4415 - accuracy: 0.7834 - val_loss: 0.5153 - val_accuracy: 0.7468\n",
            "Epoch 22/100\n",
            "20/20 [==============================] - 0s 13ms/step - loss: 0.4403 - accuracy: 0.7850 - val_loss: 0.5168 - val_accuracy: 0.7468\n",
            "Epoch 23/100\n",
            "20/20 [==============================] - 0s 7ms/step - loss: 0.4388 - accuracy: 0.7915 - val_loss: 0.5176 - val_accuracy: 0.7468\n",
            "Epoch 24/100\n",
            "20/20 [==============================] - 0s 6ms/step - loss: 0.4379 - accuracy: 0.7866 - val_loss: 0.5189 - val_accuracy: 0.7468\n",
            "Epoch 25/100\n",
            "20/20 [==============================] - 0s 5ms/step - loss: 0.4364 - accuracy: 0.7883 - val_loss: 0.5197 - val_accuracy: 0.7468\n",
            "Epoch 26/100\n",
            "20/20 [==============================] - 0s 5ms/step - loss: 0.4356 - accuracy: 0.7883 - val_loss: 0.5229 - val_accuracy: 0.7468\n",
            "Epoch 27/100\n",
            "20/20 [==============================] - 0s 4ms/step - loss: 0.4349 - accuracy: 0.7932 - val_loss: 0.5246 - val_accuracy: 0.7403\n",
            "Epoch 28/100\n",
            "20/20 [==============================] - 0s 5ms/step - loss: 0.4338 - accuracy: 0.7866 - val_loss: 0.5263 - val_accuracy: 0.7468\n",
            "Epoch 29/100\n",
            "20/20 [==============================] - 0s 5ms/step - loss: 0.4326 - accuracy: 0.7899 - val_loss: 0.5297 - val_accuracy: 0.7403\n",
            "Epoch 30/100\n",
            "20/20 [==============================] - 0s 4ms/step - loss: 0.4319 - accuracy: 0.7948 - val_loss: 0.5304 - val_accuracy: 0.7403\n",
            "Epoch 31/100\n",
            "20/20 [==============================] - 0s 5ms/step - loss: 0.4312 - accuracy: 0.7932 - val_loss: 0.5327 - val_accuracy: 0.7403\n",
            "Epoch 32/100\n",
            "20/20 [==============================] - 0s 5ms/step - loss: 0.4297 - accuracy: 0.7915 - val_loss: 0.5316 - val_accuracy: 0.7403\n",
            "Epoch 33/100\n",
            "20/20 [==============================] - 0s 5ms/step - loss: 0.4289 - accuracy: 0.7948 - val_loss: 0.5328 - val_accuracy: 0.7403\n",
            "Epoch 34/100\n",
            "20/20 [==============================] - 0s 5ms/step - loss: 0.4284 - accuracy: 0.7915 - val_loss: 0.5341 - val_accuracy: 0.7403\n",
            "Epoch 35/100\n",
            "20/20 [==============================] - 0s 5ms/step - loss: 0.4275 - accuracy: 0.7899 - val_loss: 0.5354 - val_accuracy: 0.7403\n",
            "Epoch 36/100\n",
            "20/20 [==============================] - 0s 6ms/step - loss: 0.4270 - accuracy: 0.7915 - val_loss: 0.5376 - val_accuracy: 0.7403\n",
            "Epoch 37/100\n",
            "20/20 [==============================] - 0s 4ms/step - loss: 0.4262 - accuracy: 0.7915 - val_loss: 0.5395 - val_accuracy: 0.7403\n",
            "Epoch 38/100\n",
            "20/20 [==============================] - 0s 5ms/step - loss: 0.4256 - accuracy: 0.7964 - val_loss: 0.5412 - val_accuracy: 0.7403\n",
            "Epoch 39/100\n",
            "20/20 [==============================] - 0s 3ms/step - loss: 0.4250 - accuracy: 0.7932 - val_loss: 0.5408 - val_accuracy: 0.7403\n",
            "Epoch 40/100\n",
            "20/20 [==============================] - 0s 4ms/step - loss: 0.4243 - accuracy: 0.7980 - val_loss: 0.5428 - val_accuracy: 0.7403\n",
            "Epoch 41/100\n",
            "20/20 [==============================] - 0s 4ms/step - loss: 0.4236 - accuracy: 0.8013 - val_loss: 0.5422 - val_accuracy: 0.7403\n",
            "Epoch 42/100\n",
            "20/20 [==============================] - 0s 3ms/step - loss: 0.4229 - accuracy: 0.7915 - val_loss: 0.5418 - val_accuracy: 0.7468\n",
            "Epoch 43/100\n",
            "20/20 [==============================] - 0s 4ms/step - loss: 0.4223 - accuracy: 0.7964 - val_loss: 0.5420 - val_accuracy: 0.7468\n",
            "Epoch 44/100\n",
            "20/20 [==============================] - 0s 4ms/step - loss: 0.4214 - accuracy: 0.7980 - val_loss: 0.5435 - val_accuracy: 0.7468\n",
            "Epoch 45/100\n",
            "20/20 [==============================] - 0s 4ms/step - loss: 0.4218 - accuracy: 0.7997 - val_loss: 0.5458 - val_accuracy: 0.7468\n",
            "Epoch 46/100\n",
            "20/20 [==============================] - 0s 3ms/step - loss: 0.4207 - accuracy: 0.8013 - val_loss: 0.5476 - val_accuracy: 0.7468\n",
            "Epoch 47/100\n",
            "20/20 [==============================] - 0s 4ms/step - loss: 0.4203 - accuracy: 0.8029 - val_loss: 0.5488 - val_accuracy: 0.7403\n",
            "Epoch 48/100\n",
            "20/20 [==============================] - 0s 4ms/step - loss: 0.4193 - accuracy: 0.7997 - val_loss: 0.5469 - val_accuracy: 0.7468\n",
            "Epoch 49/100\n",
            "20/20 [==============================] - 0s 3ms/step - loss: 0.4183 - accuracy: 0.7980 - val_loss: 0.5478 - val_accuracy: 0.7532\n",
            "Epoch 50/100\n",
            "20/20 [==============================] - 0s 4ms/step - loss: 0.4180 - accuracy: 0.7980 - val_loss: 0.5476 - val_accuracy: 0.7532\n",
            "Epoch 51/100\n",
            "20/20 [==============================] - 0s 4ms/step - loss: 0.4179 - accuracy: 0.7964 - val_loss: 0.5499 - val_accuracy: 0.7468\n",
            "Epoch 52/100\n",
            "20/20 [==============================] - 0s 3ms/step - loss: 0.4174 - accuracy: 0.7980 - val_loss: 0.5491 - val_accuracy: 0.7468\n",
            "Epoch 53/100\n",
            "20/20 [==============================] - 0s 4ms/step - loss: 0.4163 - accuracy: 0.7964 - val_loss: 0.5477 - val_accuracy: 0.7468\n",
            "Epoch 54/100\n",
            "20/20 [==============================] - 0s 4ms/step - loss: 0.4161 - accuracy: 0.7980 - val_loss: 0.5492 - val_accuracy: 0.7468\n",
            "Epoch 55/100\n",
            "20/20 [==============================] - 0s 8ms/step - loss: 0.4153 - accuracy: 0.7964 - val_loss: 0.5500 - val_accuracy: 0.7532\n",
            "Epoch 56/100\n",
            "20/20 [==============================] - 0s 7ms/step - loss: 0.4148 - accuracy: 0.7997 - val_loss: 0.5503 - val_accuracy: 0.7532\n",
            "Epoch 57/100\n",
            "20/20 [==============================] - 0s 8ms/step - loss: 0.4144 - accuracy: 0.7980 - val_loss: 0.5522 - val_accuracy: 0.7532\n",
            "Epoch 58/100\n",
            "20/20 [==============================] - 0s 9ms/step - loss: 0.4138 - accuracy: 0.7964 - val_loss: 0.5520 - val_accuracy: 0.7532\n",
            "Epoch 59/100\n",
            "20/20 [==============================] - 0s 5ms/step - loss: 0.4137 - accuracy: 0.7964 - val_loss: 0.5538 - val_accuracy: 0.7532\n",
            "Epoch 60/100\n",
            "20/20 [==============================] - 0s 5ms/step - loss: 0.4132 - accuracy: 0.7997 - val_loss: 0.5535 - val_accuracy: 0.7532\n",
            "Epoch 61/100\n",
            "20/20 [==============================] - 0s 6ms/step - loss: 0.4123 - accuracy: 0.7964 - val_loss: 0.5553 - val_accuracy: 0.7532\n",
            "Epoch 62/100\n",
            "20/20 [==============================] - 0s 6ms/step - loss: 0.4120 - accuracy: 0.7980 - val_loss: 0.5552 - val_accuracy: 0.7532\n",
            "Epoch 63/100\n",
            "20/20 [==============================] - 0s 6ms/step - loss: 0.4114 - accuracy: 0.7948 - val_loss: 0.5543 - val_accuracy: 0.7532\n",
            "Epoch 64/100\n",
            "20/20 [==============================] - 0s 7ms/step - loss: 0.4117 - accuracy: 0.8013 - val_loss: 0.5568 - val_accuracy: 0.7468\n",
            "Epoch 65/100\n",
            "20/20 [==============================] - 0s 9ms/step - loss: 0.4106 - accuracy: 0.7997 - val_loss: 0.5566 - val_accuracy: 0.7532\n",
            "Epoch 66/100\n",
            "20/20 [==============================] - 0s 6ms/step - loss: 0.4100 - accuracy: 0.8013 - val_loss: 0.5568 - val_accuracy: 0.7532\n",
            "Epoch 67/100\n",
            "20/20 [==============================] - 0s 8ms/step - loss: 0.4098 - accuracy: 0.8013 - val_loss: 0.5591 - val_accuracy: 0.7532\n",
            "Epoch 68/100\n",
            "20/20 [==============================] - 0s 6ms/step - loss: 0.4099 - accuracy: 0.7980 - val_loss: 0.5579 - val_accuracy: 0.7532\n",
            "Epoch 69/100\n",
            "20/20 [==============================] - 0s 6ms/step - loss: 0.4089 - accuracy: 0.8029 - val_loss: 0.5577 - val_accuracy: 0.7532\n",
            "Epoch 70/100\n",
            "20/20 [==============================] - 0s 6ms/step - loss: 0.4092 - accuracy: 0.7997 - val_loss: 0.5597 - val_accuracy: 0.7468\n",
            "Epoch 71/100\n",
            "20/20 [==============================] - 0s 11ms/step - loss: 0.4078 - accuracy: 0.8029 - val_loss: 0.5574 - val_accuracy: 0.7532\n",
            "Epoch 72/100\n",
            "20/20 [==============================] - 0s 6ms/step - loss: 0.4075 - accuracy: 0.8013 - val_loss: 0.5579 - val_accuracy: 0.7532\n",
            "Epoch 73/100\n",
            "20/20 [==============================] - 0s 8ms/step - loss: 0.4073 - accuracy: 0.8013 - val_loss: 0.5583 - val_accuracy: 0.7532\n",
            "Epoch 74/100\n",
            "20/20 [==============================] - 0s 9ms/step - loss: 0.4065 - accuracy: 0.8029 - val_loss: 0.5579 - val_accuracy: 0.7532\n",
            "Epoch 75/100\n",
            "20/20 [==============================] - 0s 7ms/step - loss: 0.4062 - accuracy: 0.8013 - val_loss: 0.5601 - val_accuracy: 0.7532\n",
            "Epoch 76/100\n",
            "20/20 [==============================] - 0s 6ms/step - loss: 0.4061 - accuracy: 0.8029 - val_loss: 0.5603 - val_accuracy: 0.7468\n",
            "Epoch 77/100\n",
            "20/20 [==============================] - 0s 11ms/step - loss: 0.4055 - accuracy: 0.8046 - val_loss: 0.5627 - val_accuracy: 0.7532\n",
            "Epoch 78/100\n",
            "20/20 [==============================] - 0s 11ms/step - loss: 0.4046 - accuracy: 0.8046 - val_loss: 0.5611 - val_accuracy: 0.7532\n",
            "Epoch 79/100\n",
            "20/20 [==============================] - 0s 7ms/step - loss: 0.4047 - accuracy: 0.7997 - val_loss: 0.5601 - val_accuracy: 0.7403\n",
            "Epoch 80/100\n",
            "20/20 [==============================] - 0s 7ms/step - loss: 0.4040 - accuracy: 0.7980 - val_loss: 0.5613 - val_accuracy: 0.7468\n",
            "Epoch 81/100\n",
            "20/20 [==============================] - 0s 9ms/step - loss: 0.4041 - accuracy: 0.8013 - val_loss: 0.5629 - val_accuracy: 0.7468\n",
            "Epoch 82/100\n",
            "20/20 [==============================] - 0s 6ms/step - loss: 0.4036 - accuracy: 0.7964 - val_loss: 0.5598 - val_accuracy: 0.7532\n",
            "Epoch 83/100\n",
            "20/20 [==============================] - 0s 6ms/step - loss: 0.4031 - accuracy: 0.7997 - val_loss: 0.5623 - val_accuracy: 0.7468\n",
            "Epoch 84/100\n",
            "20/20 [==============================] - 0s 5ms/step - loss: 0.4033 - accuracy: 0.8013 - val_loss: 0.5641 - val_accuracy: 0.7468\n",
            "Epoch 85/100\n",
            "20/20 [==============================] - 0s 7ms/step - loss: 0.4023 - accuracy: 0.8029 - val_loss: 0.5639 - val_accuracy: 0.7468\n",
            "Epoch 86/100\n",
            "20/20 [==============================] - 0s 10ms/step - loss: 0.4022 - accuracy: 0.8029 - val_loss: 0.5626 - val_accuracy: 0.7403\n",
            "Epoch 87/100\n",
            "20/20 [==============================] - 0s 8ms/step - loss: 0.4021 - accuracy: 0.8013 - val_loss: 0.5659 - val_accuracy: 0.7403\n",
            "Epoch 88/100\n",
            "20/20 [==============================] - 0s 7ms/step - loss: 0.4014 - accuracy: 0.7997 - val_loss: 0.5648 - val_accuracy: 0.7468\n",
            "Epoch 89/100\n",
            "20/20 [==============================] - 0s 9ms/step - loss: 0.4014 - accuracy: 0.8013 - val_loss: 0.5662 - val_accuracy: 0.7532\n",
            "Epoch 90/100\n",
            "20/20 [==============================] - 0s 11ms/step - loss: 0.4008 - accuracy: 0.8062 - val_loss: 0.5669 - val_accuracy: 0.7468\n",
            "Epoch 91/100\n",
            "20/20 [==============================] - 0s 12ms/step - loss: 0.4004 - accuracy: 0.8029 - val_loss: 0.5666 - val_accuracy: 0.7403\n",
            "Epoch 92/100\n",
            "20/20 [==============================] - 0s 8ms/step - loss: 0.4001 - accuracy: 0.8046 - val_loss: 0.5679 - val_accuracy: 0.7338\n",
            "Epoch 93/100\n",
            "20/20 [==============================] - 1s 30ms/step - loss: 0.3995 - accuracy: 0.8013 - val_loss: 0.5693 - val_accuracy: 0.7403\n",
            "Epoch 94/100\n",
            "20/20 [==============================] - 0s 17ms/step - loss: 0.3994 - accuracy: 0.8046 - val_loss: 0.5684 - val_accuracy: 0.7468\n",
            "Epoch 95/100\n",
            "20/20 [==============================] - 0s 9ms/step - loss: 0.3989 - accuracy: 0.8029 - val_loss: 0.5729 - val_accuracy: 0.7468\n",
            "Epoch 96/100\n",
            "20/20 [==============================] - 1s 26ms/step - loss: 0.3989 - accuracy: 0.7997 - val_loss: 0.5744 - val_accuracy: 0.7468\n",
            "Epoch 97/100\n",
            "20/20 [==============================] - 0s 15ms/step - loss: 0.3986 - accuracy: 0.8029 - val_loss: 0.5754 - val_accuracy: 0.7403\n",
            "Epoch 98/100\n",
            "20/20 [==============================] - 0s 15ms/step - loss: 0.3982 - accuracy: 0.8029 - val_loss: 0.5758 - val_accuracy: 0.7403\n",
            "Epoch 99/100\n",
            "20/20 [==============================] - 0s 19ms/step - loss: 0.3977 - accuracy: 0.7932 - val_loss: 0.5789 - val_accuracy: 0.7273\n",
            "Epoch 100/100\n",
            "20/20 [==============================] - 0s 12ms/step - loss: 0.3976 - accuracy: 0.8013 - val_loss: 0.5763 - val_accuracy: 0.7273\n"
          ]
        },
        {
          "output_type": "execute_result",
          "data": {
            "text/plain": [
              "<keras.src.callbacks.History at 0x7af6e5a06a70>"
            ]
          },
          "metadata": {},
          "execution_count": 11
        }
      ]
    },
    {
      "cell_type": "markdown",
      "source": [
        "# Keras hyperparameter tuner\n",
        "1. Select appropriate optimizer\n",
        "2. No. of nodes in a layer\n",
        "3. No. to hidden layers\n",
        "4. All in one model"
      ],
      "metadata": {
        "id": "gMVSmoJ8LDWQ"
      }
    },
    {
      "cell_type": "markdown",
      "source": [
        "## Tuning optimizer"
      ],
      "metadata": {
        "id": "mmuNXIakLbnG"
      }
    },
    {
      "cell_type": "code",
      "source": [
        "import keras_tuner as kt"
      ],
      "metadata": {
        "id": "E_aTbI4JK00F"
      },
      "execution_count": 12,
      "outputs": []
    },
    {
      "cell_type": "code",
      "source": [
        "def build_model(hp):\n",
        "  model = Sequential()\n",
        "  model.add(Dense(32, activation='relu', input_dim=8))\n",
        "  model.add(Dense(1, activation='sigmoid'))\n",
        "\n",
        "  optimizer = hp.Choice('optimizer', ['SGD','RMSprop','Adam','AdamW',\n",
        "                                      'Adadelta','Adagrad','Adamax','Adafactor',\n",
        "                                      'Nadam','Ftrl','Lion','Loss Scale Optimizer'])\n",
        "\n",
        "  model.compile(optimizer=optimizer, loss = 'binary_crossentropy', metrics=['accuracy'])\n",
        "\n",
        "  return model"
      ],
      "metadata": {
        "id": "pXh7w6RFLoIf"
      },
      "execution_count": 13,
      "outputs": []
    },
    {
      "cell_type": "code",
      "source": [
        "tuner = kt.RandomSearch(build_model,\n",
        "                        objective='val_accuracy',\n",
        "                        max_trials=10,\n",
        "                        directory='keras tuner',\n",
        "                        project_name='optimizer tuning')"
      ],
      "metadata": {
        "id": "aByjk_N7NDkb"
      },
      "execution_count": 14,
      "outputs": []
    },
    {
      "cell_type": "code",
      "source": [
        "tuner.search(X_train, y_train, epochs=10, validation_data=(X_test, y_test))"
      ],
      "metadata": {
        "id": "X15edG8ANQit",
        "colab": {
          "base_uri": "https://localhost:8080/"
        },
        "outputId": "98cb9ce0-ab67-45ff-c677-f5e5b2fdcd5e"
      },
      "execution_count": 15,
      "outputs": [
        {
          "output_type": "stream",
          "name": "stdout",
          "text": [
            "Trial 10 Complete [00h 00m 02s]\n",
            "val_accuracy: 0.37662336230278015\n",
            "\n",
            "Best val_accuracy So Far: 0.7857142686843872\n",
            "Total elapsed time: 00h 00m 23s\n"
          ]
        }
      ]
    },
    {
      "cell_type": "code",
      "source": [
        "tuner.get_best_hyperparameters()[0].values"
      ],
      "metadata": {
        "colab": {
          "base_uri": "https://localhost:8080/"
        },
        "id": "gdXcIXJ7ODeU",
        "outputId": "c2ea8c85-93cf-4e47-dfed-ab8e90fddef9"
      },
      "execution_count": 16,
      "outputs": [
        {
          "output_type": "execute_result",
          "data": {
            "text/plain": [
              "{'optimizer': 'RMSprop'}"
            ]
          },
          "metadata": {},
          "execution_count": 16
        }
      ]
    },
    {
      "cell_type": "code",
      "source": [
        "model = tuner.get_best_models(num_models=1)[0]"
      ],
      "metadata": {
        "id": "SXVb4mkfOVvm"
      },
      "execution_count": 17,
      "outputs": []
    },
    {
      "cell_type": "code",
      "source": [
        "model.fit(X_train, y_train, epochs=100, initial_epoch=10, validation_data=(X_test, y_test))"
      ],
      "metadata": {
        "colab": {
          "base_uri": "https://localhost:8080/"
        },
        "id": "8kSB68CvOfyp",
        "outputId": "c0a314ac-597a-4656-f5f9-3271350659b0"
      },
      "execution_count": 18,
      "outputs": [
        {
          "output_type": "stream",
          "name": "stdout",
          "text": [
            "Epoch 11/100\n",
            "20/20 [==============================] - 1s 17ms/step - loss: 0.4569 - accuracy: 0.7752 - val_loss: 0.5044 - val_accuracy: 0.7857\n",
            "Epoch 12/100\n",
            "20/20 [==============================] - 0s 5ms/step - loss: 0.4531 - accuracy: 0.7736 - val_loss: 0.5025 - val_accuracy: 0.7727\n",
            "Epoch 13/100\n",
            "20/20 [==============================] - 0s 6ms/step - loss: 0.4495 - accuracy: 0.7752 - val_loss: 0.5035 - val_accuracy: 0.7857\n",
            "Epoch 14/100\n",
            "20/20 [==============================] - 0s 4ms/step - loss: 0.4464 - accuracy: 0.7752 - val_loss: 0.5025 - val_accuracy: 0.7662\n",
            "Epoch 15/100\n",
            "20/20 [==============================] - 0s 6ms/step - loss: 0.4444 - accuracy: 0.7752 - val_loss: 0.5023 - val_accuracy: 0.7662\n",
            "Epoch 16/100\n",
            "20/20 [==============================] - 0s 4ms/step - loss: 0.4419 - accuracy: 0.7720 - val_loss: 0.5039 - val_accuracy: 0.7597\n",
            "Epoch 17/100\n",
            "20/20 [==============================] - 0s 5ms/step - loss: 0.4399 - accuracy: 0.7769 - val_loss: 0.5034 - val_accuracy: 0.7597\n",
            "Epoch 18/100\n",
            "20/20 [==============================] - 0s 5ms/step - loss: 0.4386 - accuracy: 0.7752 - val_loss: 0.5032 - val_accuracy: 0.7597\n",
            "Epoch 19/100\n",
            "20/20 [==============================] - 0s 5ms/step - loss: 0.4367 - accuracy: 0.7818 - val_loss: 0.5045 - val_accuracy: 0.7662\n",
            "Epoch 20/100\n",
            "20/20 [==============================] - 0s 6ms/step - loss: 0.4352 - accuracy: 0.7801 - val_loss: 0.5054 - val_accuracy: 0.7597\n",
            "Epoch 21/100\n",
            "20/20 [==============================] - 0s 6ms/step - loss: 0.4340 - accuracy: 0.7785 - val_loss: 0.5076 - val_accuracy: 0.7597\n",
            "Epoch 22/100\n",
            "20/20 [==============================] - 0s 5ms/step - loss: 0.4328 - accuracy: 0.7834 - val_loss: 0.5096 - val_accuracy: 0.7532\n",
            "Epoch 23/100\n",
            "20/20 [==============================] - 0s 4ms/step - loss: 0.4319 - accuracy: 0.7818 - val_loss: 0.5111 - val_accuracy: 0.7468\n",
            "Epoch 24/100\n",
            "20/20 [==============================] - 0s 5ms/step - loss: 0.4307 - accuracy: 0.7834 - val_loss: 0.5123 - val_accuracy: 0.7468\n",
            "Epoch 25/100\n",
            "20/20 [==============================] - 0s 5ms/step - loss: 0.4296 - accuracy: 0.7899 - val_loss: 0.5124 - val_accuracy: 0.7597\n",
            "Epoch 26/100\n",
            "20/20 [==============================] - 0s 6ms/step - loss: 0.4289 - accuracy: 0.7850 - val_loss: 0.5144 - val_accuracy: 0.7597\n",
            "Epoch 27/100\n",
            "20/20 [==============================] - 0s 6ms/step - loss: 0.4282 - accuracy: 0.7834 - val_loss: 0.5142 - val_accuracy: 0.7597\n",
            "Epoch 28/100\n",
            "20/20 [==============================] - 0s 5ms/step - loss: 0.4274 - accuracy: 0.7866 - val_loss: 0.5147 - val_accuracy: 0.7597\n",
            "Epoch 29/100\n",
            "20/20 [==============================] - 0s 5ms/step - loss: 0.4264 - accuracy: 0.7818 - val_loss: 0.5147 - val_accuracy: 0.7532\n",
            "Epoch 30/100\n",
            "20/20 [==============================] - 0s 3ms/step - loss: 0.4257 - accuracy: 0.7850 - val_loss: 0.5173 - val_accuracy: 0.7532\n",
            "Epoch 31/100\n",
            "20/20 [==============================] - 0s 4ms/step - loss: 0.4254 - accuracy: 0.7899 - val_loss: 0.5183 - val_accuracy: 0.7532\n",
            "Epoch 32/100\n",
            "20/20 [==============================] - 0s 4ms/step - loss: 0.4239 - accuracy: 0.7883 - val_loss: 0.5169 - val_accuracy: 0.7532\n",
            "Epoch 33/100\n",
            "20/20 [==============================] - 0s 4ms/step - loss: 0.4238 - accuracy: 0.7883 - val_loss: 0.5172 - val_accuracy: 0.7597\n",
            "Epoch 34/100\n",
            "20/20 [==============================] - 0s 3ms/step - loss: 0.4229 - accuracy: 0.7834 - val_loss: 0.5196 - val_accuracy: 0.7532\n",
            "Epoch 35/100\n",
            "20/20 [==============================] - 0s 4ms/step - loss: 0.4225 - accuracy: 0.7883 - val_loss: 0.5219 - val_accuracy: 0.7468\n",
            "Epoch 36/100\n",
            "20/20 [==============================] - 0s 5ms/step - loss: 0.4222 - accuracy: 0.7850 - val_loss: 0.5216 - val_accuracy: 0.7468\n",
            "Epoch 37/100\n",
            "20/20 [==============================] - 0s 5ms/step - loss: 0.4211 - accuracy: 0.7915 - val_loss: 0.5225 - val_accuracy: 0.7403\n",
            "Epoch 38/100\n",
            "20/20 [==============================] - 0s 4ms/step - loss: 0.4208 - accuracy: 0.7883 - val_loss: 0.5223 - val_accuracy: 0.7403\n",
            "Epoch 39/100\n",
            "20/20 [==============================] - 0s 5ms/step - loss: 0.4204 - accuracy: 0.7899 - val_loss: 0.5236 - val_accuracy: 0.7403\n",
            "Epoch 40/100\n",
            "20/20 [==============================] - 0s 4ms/step - loss: 0.4198 - accuracy: 0.7948 - val_loss: 0.5239 - val_accuracy: 0.7403\n",
            "Epoch 41/100\n",
            "20/20 [==============================] - 0s 4ms/step - loss: 0.4191 - accuracy: 0.7948 - val_loss: 0.5243 - val_accuracy: 0.7468\n",
            "Epoch 42/100\n",
            "20/20 [==============================] - 0s 5ms/step - loss: 0.4186 - accuracy: 0.7932 - val_loss: 0.5254 - val_accuracy: 0.7403\n",
            "Epoch 43/100\n",
            "20/20 [==============================] - 0s 5ms/step - loss: 0.4179 - accuracy: 0.7948 - val_loss: 0.5256 - val_accuracy: 0.7403\n",
            "Epoch 44/100\n",
            "20/20 [==============================] - 0s 5ms/step - loss: 0.4175 - accuracy: 0.7932 - val_loss: 0.5263 - val_accuracy: 0.7338\n",
            "Epoch 45/100\n",
            "20/20 [==============================] - 0s 5ms/step - loss: 0.4171 - accuracy: 0.7932 - val_loss: 0.5270 - val_accuracy: 0.7338\n",
            "Epoch 46/100\n",
            "20/20 [==============================] - 0s 4ms/step - loss: 0.4170 - accuracy: 0.7915 - val_loss: 0.5259 - val_accuracy: 0.7403\n",
            "Epoch 47/100\n",
            "20/20 [==============================] - 0s 3ms/step - loss: 0.4165 - accuracy: 0.7932 - val_loss: 0.5254 - val_accuracy: 0.7403\n",
            "Epoch 48/100\n",
            "20/20 [==============================] - 0s 3ms/step - loss: 0.4160 - accuracy: 0.7883 - val_loss: 0.5239 - val_accuracy: 0.7403\n",
            "Epoch 49/100\n",
            "20/20 [==============================] - 0s 3ms/step - loss: 0.4154 - accuracy: 0.7899 - val_loss: 0.5239 - val_accuracy: 0.7338\n",
            "Epoch 50/100\n",
            "20/20 [==============================] - 0s 4ms/step - loss: 0.4149 - accuracy: 0.7948 - val_loss: 0.5246 - val_accuracy: 0.7338\n",
            "Epoch 51/100\n",
            "20/20 [==============================] - 0s 4ms/step - loss: 0.4149 - accuracy: 0.7915 - val_loss: 0.5246 - val_accuracy: 0.7338\n",
            "Epoch 52/100\n",
            "20/20 [==============================] - 0s 5ms/step - loss: 0.4142 - accuracy: 0.7915 - val_loss: 0.5255 - val_accuracy: 0.7338\n",
            "Epoch 53/100\n",
            "20/20 [==============================] - 0s 4ms/step - loss: 0.4142 - accuracy: 0.7915 - val_loss: 0.5263 - val_accuracy: 0.7403\n",
            "Epoch 54/100\n",
            "20/20 [==============================] - 0s 3ms/step - loss: 0.4130 - accuracy: 0.7932 - val_loss: 0.5273 - val_accuracy: 0.7338\n",
            "Epoch 55/100\n",
            "20/20 [==============================] - 0s 3ms/step - loss: 0.4135 - accuracy: 0.7899 - val_loss: 0.5274 - val_accuracy: 0.7338\n",
            "Epoch 56/100\n",
            "20/20 [==============================] - 0s 3ms/step - loss: 0.4126 - accuracy: 0.7948 - val_loss: 0.5285 - val_accuracy: 0.7338\n",
            "Epoch 57/100\n",
            "20/20 [==============================] - 0s 3ms/step - loss: 0.4126 - accuracy: 0.7915 - val_loss: 0.5301 - val_accuracy: 0.7338\n",
            "Epoch 58/100\n",
            "20/20 [==============================] - 0s 4ms/step - loss: 0.4122 - accuracy: 0.7948 - val_loss: 0.5307 - val_accuracy: 0.7338\n",
            "Epoch 59/100\n",
            "20/20 [==============================] - 0s 3ms/step - loss: 0.4122 - accuracy: 0.7899 - val_loss: 0.5303 - val_accuracy: 0.7338\n",
            "Epoch 60/100\n",
            "20/20 [==============================] - 0s 4ms/step - loss: 0.4115 - accuracy: 0.7964 - val_loss: 0.5287 - val_accuracy: 0.7338\n",
            "Epoch 61/100\n",
            "20/20 [==============================] - 0s 4ms/step - loss: 0.4116 - accuracy: 0.7964 - val_loss: 0.5305 - val_accuracy: 0.7338\n",
            "Epoch 62/100\n",
            "20/20 [==============================] - 0s 3ms/step - loss: 0.4110 - accuracy: 0.7932 - val_loss: 0.5301 - val_accuracy: 0.7338\n",
            "Epoch 63/100\n",
            "20/20 [==============================] - 0s 4ms/step - loss: 0.4109 - accuracy: 0.7948 - val_loss: 0.5301 - val_accuracy: 0.7338\n",
            "Epoch 64/100\n",
            "20/20 [==============================] - 0s 4ms/step - loss: 0.4102 - accuracy: 0.7948 - val_loss: 0.5315 - val_accuracy: 0.7338\n",
            "Epoch 65/100\n",
            "20/20 [==============================] - 0s 4ms/step - loss: 0.4100 - accuracy: 0.7932 - val_loss: 0.5327 - val_accuracy: 0.7338\n",
            "Epoch 66/100\n",
            "20/20 [==============================] - 0s 3ms/step - loss: 0.4094 - accuracy: 0.7948 - val_loss: 0.5327 - val_accuracy: 0.7338\n",
            "Epoch 67/100\n",
            "20/20 [==============================] - 0s 4ms/step - loss: 0.4093 - accuracy: 0.7948 - val_loss: 0.5324 - val_accuracy: 0.7338\n",
            "Epoch 68/100\n",
            "20/20 [==============================] - 0s 3ms/step - loss: 0.4094 - accuracy: 0.7997 - val_loss: 0.5326 - val_accuracy: 0.7338\n",
            "Epoch 69/100\n",
            "20/20 [==============================] - 0s 4ms/step - loss: 0.4086 - accuracy: 0.7980 - val_loss: 0.5325 - val_accuracy: 0.7403\n",
            "Epoch 70/100\n",
            "20/20 [==============================] - 0s 4ms/step - loss: 0.4087 - accuracy: 0.7948 - val_loss: 0.5321 - val_accuracy: 0.7338\n",
            "Epoch 71/100\n",
            "20/20 [==============================] - 0s 4ms/step - loss: 0.4084 - accuracy: 0.7948 - val_loss: 0.5332 - val_accuracy: 0.7338\n",
            "Epoch 72/100\n",
            "20/20 [==============================] - 0s 4ms/step - loss: 0.4076 - accuracy: 0.7948 - val_loss: 0.5328 - val_accuracy: 0.7403\n",
            "Epoch 73/100\n",
            "20/20 [==============================] - 0s 4ms/step - loss: 0.4076 - accuracy: 0.7964 - val_loss: 0.5340 - val_accuracy: 0.7403\n",
            "Epoch 74/100\n",
            "20/20 [==============================] - 0s 4ms/step - loss: 0.4078 - accuracy: 0.7948 - val_loss: 0.5338 - val_accuracy: 0.7403\n",
            "Epoch 75/100\n",
            "20/20 [==============================] - 0s 4ms/step - loss: 0.4072 - accuracy: 0.7948 - val_loss: 0.5347 - val_accuracy: 0.7403\n",
            "Epoch 76/100\n",
            "20/20 [==============================] - 0s 4ms/step - loss: 0.4072 - accuracy: 0.7964 - val_loss: 0.5357 - val_accuracy: 0.7403\n",
            "Epoch 77/100\n",
            "20/20 [==============================] - 0s 5ms/step - loss: 0.4064 - accuracy: 0.8029 - val_loss: 0.5358 - val_accuracy: 0.7403\n",
            "Epoch 78/100\n",
            "20/20 [==============================] - 0s 4ms/step - loss: 0.4060 - accuracy: 0.7932 - val_loss: 0.5370 - val_accuracy: 0.7403\n",
            "Epoch 79/100\n",
            "20/20 [==============================] - 0s 4ms/step - loss: 0.4062 - accuracy: 0.7964 - val_loss: 0.5365 - val_accuracy: 0.7403\n",
            "Epoch 80/100\n",
            "20/20 [==============================] - 0s 3ms/step - loss: 0.4059 - accuracy: 0.7932 - val_loss: 0.5348 - val_accuracy: 0.7403\n",
            "Epoch 81/100\n",
            "20/20 [==============================] - 0s 4ms/step - loss: 0.4053 - accuracy: 0.7948 - val_loss: 0.5340 - val_accuracy: 0.7403\n",
            "Epoch 82/100\n",
            "20/20 [==============================] - 0s 4ms/step - loss: 0.4050 - accuracy: 0.7948 - val_loss: 0.5348 - val_accuracy: 0.7403\n",
            "Epoch 83/100\n",
            "20/20 [==============================] - 0s 3ms/step - loss: 0.4049 - accuracy: 0.7964 - val_loss: 0.5349 - val_accuracy: 0.7468\n",
            "Epoch 84/100\n",
            "20/20 [==============================] - 0s 3ms/step - loss: 0.4046 - accuracy: 0.7932 - val_loss: 0.5359 - val_accuracy: 0.7338\n",
            "Epoch 85/100\n",
            "20/20 [==============================] - 0s 4ms/step - loss: 0.4038 - accuracy: 0.8078 - val_loss: 0.5347 - val_accuracy: 0.7403\n",
            "Epoch 86/100\n",
            "20/20 [==============================] - 0s 4ms/step - loss: 0.4041 - accuracy: 0.8013 - val_loss: 0.5376 - val_accuracy: 0.7403\n",
            "Epoch 87/100\n",
            "20/20 [==============================] - 0s 4ms/step - loss: 0.4037 - accuracy: 0.8029 - val_loss: 0.5385 - val_accuracy: 0.7338\n",
            "Epoch 88/100\n",
            "20/20 [==============================] - 0s 4ms/step - loss: 0.4037 - accuracy: 0.8111 - val_loss: 0.5386 - val_accuracy: 0.7403\n",
            "Epoch 89/100\n",
            "20/20 [==============================] - 0s 5ms/step - loss: 0.4034 - accuracy: 0.8062 - val_loss: 0.5366 - val_accuracy: 0.7403\n",
            "Epoch 90/100\n",
            "20/20 [==============================] - 0s 3ms/step - loss: 0.4029 - accuracy: 0.7964 - val_loss: 0.5361 - val_accuracy: 0.7403\n",
            "Epoch 91/100\n",
            "20/20 [==============================] - 0s 4ms/step - loss: 0.4027 - accuracy: 0.8029 - val_loss: 0.5360 - val_accuracy: 0.7403\n",
            "Epoch 92/100\n",
            "20/20 [==============================] - 0s 4ms/step - loss: 0.4024 - accuracy: 0.7997 - val_loss: 0.5358 - val_accuracy: 0.7338\n",
            "Epoch 93/100\n",
            "20/20 [==============================] - 0s 3ms/step - loss: 0.4027 - accuracy: 0.7915 - val_loss: 0.5365 - val_accuracy: 0.7338\n",
            "Epoch 94/100\n",
            "20/20 [==============================] - 0s 4ms/step - loss: 0.4026 - accuracy: 0.7980 - val_loss: 0.5387 - val_accuracy: 0.7273\n",
            "Epoch 95/100\n",
            "20/20 [==============================] - 0s 4ms/step - loss: 0.4016 - accuracy: 0.8046 - val_loss: 0.5386 - val_accuracy: 0.7338\n",
            "Epoch 96/100\n",
            "20/20 [==============================] - 0s 5ms/step - loss: 0.4018 - accuracy: 0.7980 - val_loss: 0.5395 - val_accuracy: 0.7403\n",
            "Epoch 97/100\n",
            "20/20 [==============================] - 0s 5ms/step - loss: 0.4014 - accuracy: 0.8094 - val_loss: 0.5397 - val_accuracy: 0.7403\n",
            "Epoch 98/100\n",
            "20/20 [==============================] - 0s 4ms/step - loss: 0.4013 - accuracy: 0.8078 - val_loss: 0.5391 - val_accuracy: 0.7403\n",
            "Epoch 99/100\n",
            "20/20 [==============================] - 0s 4ms/step - loss: 0.4010 - accuracy: 0.7997 - val_loss: 0.5396 - val_accuracy: 0.7403\n",
            "Epoch 100/100\n",
            "20/20 [==============================] - 0s 6ms/step - loss: 0.4010 - accuracy: 0.8078 - val_loss: 0.5396 - val_accuracy: 0.7338\n"
          ]
        },
        {
          "output_type": "execute_result",
          "data": {
            "text/plain": [
              "<keras.src.callbacks.History at 0x7af6e5bef5b0>"
            ]
          },
          "metadata": {},
          "execution_count": 18
        }
      ]
    },
    {
      "cell_type": "code",
      "source": [
        "model.summary()"
      ],
      "metadata": {
        "colab": {
          "base_uri": "https://localhost:8080/"
        },
        "id": "GHQp7K3gOpbn",
        "outputId": "cc929c26-4b6b-4a01-dfd5-2699078bc8a2"
      },
      "execution_count": 19,
      "outputs": [
        {
          "output_type": "stream",
          "name": "stdout",
          "text": [
            "Model: \"sequential\"\n",
            "_________________________________________________________________\n",
            " Layer (type)                Output Shape              Param #   \n",
            "=================================================================\n",
            " dense (Dense)               (None, 32)                288       \n",
            "                                                                 \n",
            " dense_1 (Dense)             (None, 1)                 33        \n",
            "                                                                 \n",
            "=================================================================\n",
            "Total params: 321 (1.25 KB)\n",
            "Trainable params: 321 (1.25 KB)\n",
            "Non-trainable params: 0 (0.00 Byte)\n",
            "_________________________________________________________________\n"
          ]
        }
      ]
    },
    {
      "cell_type": "markdown",
      "source": [
        "## Tuning layer nodes"
      ],
      "metadata": {
        "id": "hqo3pFB5PXnD"
      }
    },
    {
      "cell_type": "code",
      "source": [
        "def build_model(hp):\n",
        "  model = Sequential()\n",
        "  nodes = hp.Int('Nodes', min_value=8, max_value=128, step=8)\n",
        "\n",
        "  model.add(Dense(units=nodes, activation='relu', input_dim=8))\n",
        "  model.add(Dense(1, activation='sigmoid'))\n",
        "\n",
        "  model.compile(optimizer='Adam', loss='binary_crossentropy', metrics=['accuracy'])\n",
        "\n",
        "  return model"
      ],
      "metadata": {
        "id": "E7hjS4_XPF_y"
      },
      "execution_count": 20,
      "outputs": []
    },
    {
      "cell_type": "code",
      "source": [
        "tuner = kt.RandomSearch(build_model,\n",
        "                        objective='val_accuracy',\n",
        "                        max_trials=10,\n",
        "                        directory='keras tuner',\n",
        "                        project_name='layer nodes tuning')"
      ],
      "metadata": {
        "id": "__fhCWSwQWSb"
      },
      "execution_count": 21,
      "outputs": []
    },
    {
      "cell_type": "code",
      "source": [
        "tuner.search(X_train, y_train, epochs=10, validation_data=(X_test, y_test))"
      ],
      "metadata": {
        "id": "ABbyp6uPQvYX",
        "colab": {
          "base_uri": "https://localhost:8080/"
        },
        "outputId": "ae74dbe0-e037-4639-8e24-8aabc001cc67"
      },
      "execution_count": 22,
      "outputs": [
        {
          "output_type": "stream",
          "name": "stdout",
          "text": [
            "Trial 10 Complete [00h 00m 02s]\n",
            "val_accuracy: 0.798701286315918\n",
            "\n",
            "Best val_accuracy So Far: 0.798701286315918\n",
            "Total elapsed time: 00h 00m 26s\n"
          ]
        }
      ]
    },
    {
      "cell_type": "code",
      "source": [
        "tuner.get_best_hyperparameters()[0].values"
      ],
      "metadata": {
        "colab": {
          "base_uri": "https://localhost:8080/"
        },
        "id": "tA7VkCaMQ11g",
        "outputId": "56d4de0c-a8bd-47aa-cb45-1acae6d5e634"
      },
      "execution_count": 23,
      "outputs": [
        {
          "output_type": "execute_result",
          "data": {
            "text/plain": [
              "{'Nodes': 72}"
            ]
          },
          "metadata": {},
          "execution_count": 23
        }
      ]
    },
    {
      "cell_type": "code",
      "source": [
        "model = tuner.get_best_models(num_models=1)[0]"
      ],
      "metadata": {
        "id": "scl4QHvMRFUp"
      },
      "execution_count": 24,
      "outputs": []
    },
    {
      "cell_type": "code",
      "source": [
        "model.summary()"
      ],
      "metadata": {
        "colab": {
          "base_uri": "https://localhost:8080/"
        },
        "id": "DWnXyGTORMPY",
        "outputId": "95e868b8-9687-4e73-b2ad-018eb2451bb6"
      },
      "execution_count": 25,
      "outputs": [
        {
          "output_type": "stream",
          "name": "stdout",
          "text": [
            "Model: \"sequential\"\n",
            "_________________________________________________________________\n",
            " Layer (type)                Output Shape              Param #   \n",
            "=================================================================\n",
            " dense (Dense)               (None, 72)                648       \n",
            "                                                                 \n",
            " dense_1 (Dense)             (None, 1)                 73        \n",
            "                                                                 \n",
            "=================================================================\n",
            "Total params: 721 (2.82 KB)\n",
            "Trainable params: 721 (2.82 KB)\n",
            "Non-trainable params: 0 (0.00 Byte)\n",
            "_________________________________________________________________\n"
          ]
        }
      ]
    },
    {
      "cell_type": "code",
      "source": [
        "model.fit(X_train, y_train, epochs=100, initial_epoch=10, validation_data=(X_test, y_test))"
      ],
      "metadata": {
        "colab": {
          "base_uri": "https://localhost:8080/"
        },
        "id": "9HxMcRzARNYu",
        "outputId": "64dc36ae-5f5a-45b0-cf29-cf9a8f4ba923"
      },
      "execution_count": 26,
      "outputs": [
        {
          "output_type": "stream",
          "name": "stdout",
          "text": [
            "Epoch 11/100\n",
            "20/20 [==============================] - 1s 16ms/step - loss: 0.4572 - accuracy: 0.7655 - val_loss: 0.4898 - val_accuracy: 0.7987\n",
            "Epoch 12/100\n",
            "20/20 [==============================] - 0s 6ms/step - loss: 0.4534 - accuracy: 0.7752 - val_loss: 0.4906 - val_accuracy: 0.7662\n",
            "Epoch 13/100\n",
            "20/20 [==============================] - 0s 6ms/step - loss: 0.4498 - accuracy: 0.7785 - val_loss: 0.4922 - val_accuracy: 0.7727\n",
            "Epoch 14/100\n",
            "20/20 [==============================] - 0s 6ms/step - loss: 0.4478 - accuracy: 0.7769 - val_loss: 0.4957 - val_accuracy: 0.7792\n",
            "Epoch 15/100\n",
            "20/20 [==============================] - 0s 5ms/step - loss: 0.4456 - accuracy: 0.7769 - val_loss: 0.4990 - val_accuracy: 0.7662\n",
            "Epoch 16/100\n",
            "20/20 [==============================] - 0s 6ms/step - loss: 0.4454 - accuracy: 0.7769 - val_loss: 0.4983 - val_accuracy: 0.7857\n",
            "Epoch 17/100\n",
            "20/20 [==============================] - 0s 5ms/step - loss: 0.4416 - accuracy: 0.7769 - val_loss: 0.4989 - val_accuracy: 0.7662\n",
            "Epoch 18/100\n",
            "20/20 [==============================] - 0s 5ms/step - loss: 0.4404 - accuracy: 0.7801 - val_loss: 0.4999 - val_accuracy: 0.7532\n",
            "Epoch 19/100\n",
            "20/20 [==============================] - 0s 5ms/step - loss: 0.4395 - accuracy: 0.7752 - val_loss: 0.4986 - val_accuracy: 0.7597\n",
            "Epoch 20/100\n",
            "20/20 [==============================] - 0s 6ms/step - loss: 0.4388 - accuracy: 0.7801 - val_loss: 0.4997 - val_accuracy: 0.7662\n",
            "Epoch 21/100\n",
            "20/20 [==============================] - 0s 6ms/step - loss: 0.4363 - accuracy: 0.7850 - val_loss: 0.5000 - val_accuracy: 0.7662\n",
            "Epoch 22/100\n",
            "20/20 [==============================] - 0s 5ms/step - loss: 0.4353 - accuracy: 0.7818 - val_loss: 0.4989 - val_accuracy: 0.7857\n",
            "Epoch 23/100\n",
            "20/20 [==============================] - 0s 5ms/step - loss: 0.4343 - accuracy: 0.7850 - val_loss: 0.5006 - val_accuracy: 0.7792\n",
            "Epoch 24/100\n",
            "20/20 [==============================] - 0s 6ms/step - loss: 0.4332 - accuracy: 0.7818 - val_loss: 0.5014 - val_accuracy: 0.7597\n",
            "Epoch 25/100\n",
            "20/20 [==============================] - 0s 6ms/step - loss: 0.4316 - accuracy: 0.7866 - val_loss: 0.5002 - val_accuracy: 0.7857\n",
            "Epoch 26/100\n",
            "20/20 [==============================] - 0s 6ms/step - loss: 0.4303 - accuracy: 0.7850 - val_loss: 0.5003 - val_accuracy: 0.7857\n",
            "Epoch 27/100\n",
            "20/20 [==============================] - 0s 5ms/step - loss: 0.4288 - accuracy: 0.7850 - val_loss: 0.5030 - val_accuracy: 0.7857\n",
            "Epoch 28/100\n",
            "20/20 [==============================] - 0s 5ms/step - loss: 0.4287 - accuracy: 0.7883 - val_loss: 0.5050 - val_accuracy: 0.7857\n",
            "Epoch 29/100\n",
            "20/20 [==============================] - 0s 5ms/step - loss: 0.4271 - accuracy: 0.7883 - val_loss: 0.5059 - val_accuracy: 0.7792\n",
            "Epoch 30/100\n",
            "20/20 [==============================] - 0s 6ms/step - loss: 0.4258 - accuracy: 0.7883 - val_loss: 0.5045 - val_accuracy: 0.7857\n",
            "Epoch 31/100\n",
            "20/20 [==============================] - 0s 6ms/step - loss: 0.4246 - accuracy: 0.7899 - val_loss: 0.5056 - val_accuracy: 0.7857\n",
            "Epoch 32/100\n",
            "20/20 [==============================] - 0s 5ms/step - loss: 0.4238 - accuracy: 0.7899 - val_loss: 0.5063 - val_accuracy: 0.7792\n",
            "Epoch 33/100\n",
            "20/20 [==============================] - 0s 4ms/step - loss: 0.4233 - accuracy: 0.7883 - val_loss: 0.5089 - val_accuracy: 0.7662\n",
            "Epoch 34/100\n",
            "20/20 [==============================] - 0s 3ms/step - loss: 0.4215 - accuracy: 0.7980 - val_loss: 0.5085 - val_accuracy: 0.7727\n",
            "Epoch 35/100\n",
            "20/20 [==============================] - 0s 3ms/step - loss: 0.4206 - accuracy: 0.7948 - val_loss: 0.5082 - val_accuracy: 0.7597\n",
            "Epoch 36/100\n",
            "20/20 [==============================] - 0s 4ms/step - loss: 0.4192 - accuracy: 0.7964 - val_loss: 0.5077 - val_accuracy: 0.7792\n",
            "Epoch 37/100\n",
            "20/20 [==============================] - 0s 4ms/step - loss: 0.4190 - accuracy: 0.7948 - val_loss: 0.5091 - val_accuracy: 0.7792\n",
            "Epoch 38/100\n",
            "20/20 [==============================] - 0s 4ms/step - loss: 0.4176 - accuracy: 0.7948 - val_loss: 0.5117 - val_accuracy: 0.7727\n",
            "Epoch 39/100\n",
            "20/20 [==============================] - 0s 3ms/step - loss: 0.4169 - accuracy: 0.7948 - val_loss: 0.5120 - val_accuracy: 0.7727\n",
            "Epoch 40/100\n",
            "20/20 [==============================] - 0s 3ms/step - loss: 0.4154 - accuracy: 0.7915 - val_loss: 0.5123 - val_accuracy: 0.7727\n",
            "Epoch 41/100\n",
            "20/20 [==============================] - 0s 4ms/step - loss: 0.4151 - accuracy: 0.7948 - val_loss: 0.5122 - val_accuracy: 0.7727\n",
            "Epoch 42/100\n",
            "20/20 [==============================] - 0s 5ms/step - loss: 0.4147 - accuracy: 0.7964 - val_loss: 0.5127 - val_accuracy: 0.7727\n",
            "Epoch 43/100\n",
            "20/20 [==============================] - 0s 4ms/step - loss: 0.4133 - accuracy: 0.7980 - val_loss: 0.5138 - val_accuracy: 0.7792\n",
            "Epoch 44/100\n",
            "20/20 [==============================] - 0s 4ms/step - loss: 0.4136 - accuracy: 0.7964 - val_loss: 0.5146 - val_accuracy: 0.7727\n",
            "Epoch 45/100\n",
            "20/20 [==============================] - 0s 3ms/step - loss: 0.4123 - accuracy: 0.7948 - val_loss: 0.5185 - val_accuracy: 0.7727\n",
            "Epoch 46/100\n",
            "20/20 [==============================] - 0s 5ms/step - loss: 0.4112 - accuracy: 0.7964 - val_loss: 0.5179 - val_accuracy: 0.7662\n",
            "Epoch 47/100\n",
            "20/20 [==============================] - 0s 3ms/step - loss: 0.4102 - accuracy: 0.8029 - val_loss: 0.5174 - val_accuracy: 0.7662\n",
            "Epoch 48/100\n",
            "20/20 [==============================] - 0s 4ms/step - loss: 0.4099 - accuracy: 0.8013 - val_loss: 0.5159 - val_accuracy: 0.7662\n",
            "Epoch 49/100\n",
            "20/20 [==============================] - 0s 4ms/step - loss: 0.4095 - accuracy: 0.8078 - val_loss: 0.5153 - val_accuracy: 0.7727\n",
            "Epoch 50/100\n",
            "20/20 [==============================] - 0s 4ms/step - loss: 0.4080 - accuracy: 0.8029 - val_loss: 0.5190 - val_accuracy: 0.7662\n",
            "Epoch 51/100\n",
            "20/20 [==============================] - 0s 3ms/step - loss: 0.4083 - accuracy: 0.7997 - val_loss: 0.5170 - val_accuracy: 0.7727\n",
            "Epoch 52/100\n",
            "20/20 [==============================] - 0s 3ms/step - loss: 0.4063 - accuracy: 0.8046 - val_loss: 0.5178 - val_accuracy: 0.7727\n",
            "Epoch 53/100\n",
            "20/20 [==============================] - 0s 3ms/step - loss: 0.4065 - accuracy: 0.7997 - val_loss: 0.5175 - val_accuracy: 0.7662\n",
            "Epoch 54/100\n",
            "20/20 [==============================] - 0s 4ms/step - loss: 0.4053 - accuracy: 0.8029 - val_loss: 0.5196 - val_accuracy: 0.7597\n",
            "Epoch 55/100\n",
            "20/20 [==============================] - 0s 4ms/step - loss: 0.4051 - accuracy: 0.8046 - val_loss: 0.5232 - val_accuracy: 0.7532\n",
            "Epoch 56/100\n",
            "20/20 [==============================] - 0s 3ms/step - loss: 0.4042 - accuracy: 0.8062 - val_loss: 0.5234 - val_accuracy: 0.7727\n",
            "Epoch 57/100\n",
            "20/20 [==============================] - 0s 3ms/step - loss: 0.4032 - accuracy: 0.8111 - val_loss: 0.5219 - val_accuracy: 0.7597\n",
            "Epoch 58/100\n",
            "20/20 [==============================] - 0s 4ms/step - loss: 0.4025 - accuracy: 0.8094 - val_loss: 0.5213 - val_accuracy: 0.7597\n",
            "Epoch 59/100\n",
            "20/20 [==============================] - 0s 3ms/step - loss: 0.4014 - accuracy: 0.8078 - val_loss: 0.5218 - val_accuracy: 0.7597\n",
            "Epoch 60/100\n",
            "20/20 [==============================] - 0s 4ms/step - loss: 0.4017 - accuracy: 0.8062 - val_loss: 0.5212 - val_accuracy: 0.7662\n",
            "Epoch 61/100\n",
            "20/20 [==============================] - 0s 3ms/step - loss: 0.4014 - accuracy: 0.8094 - val_loss: 0.5231 - val_accuracy: 0.7662\n",
            "Epoch 62/100\n",
            "20/20 [==============================] - 0s 3ms/step - loss: 0.3993 - accuracy: 0.8078 - val_loss: 0.5226 - val_accuracy: 0.7727\n",
            "Epoch 63/100\n",
            "20/20 [==============================] - 0s 3ms/step - loss: 0.3994 - accuracy: 0.8046 - val_loss: 0.5236 - val_accuracy: 0.7662\n",
            "Epoch 64/100\n",
            "20/20 [==============================] - 0s 4ms/step - loss: 0.3991 - accuracy: 0.8046 - val_loss: 0.5247 - val_accuracy: 0.7597\n",
            "Epoch 65/100\n",
            "20/20 [==============================] - 0s 4ms/step - loss: 0.3982 - accuracy: 0.8078 - val_loss: 0.5219 - val_accuracy: 0.7727\n",
            "Epoch 66/100\n",
            "20/20 [==============================] - 0s 4ms/step - loss: 0.3981 - accuracy: 0.8094 - val_loss: 0.5235 - val_accuracy: 0.7727\n",
            "Epoch 67/100\n",
            "20/20 [==============================] - 0s 5ms/step - loss: 0.3962 - accuracy: 0.8062 - val_loss: 0.5251 - val_accuracy: 0.7662\n",
            "Epoch 68/100\n",
            "20/20 [==============================] - 0s 5ms/step - loss: 0.3964 - accuracy: 0.8094 - val_loss: 0.5274 - val_accuracy: 0.7727\n",
            "Epoch 69/100\n",
            "20/20 [==============================] - 0s 4ms/step - loss: 0.3955 - accuracy: 0.8111 - val_loss: 0.5273 - val_accuracy: 0.7727\n",
            "Epoch 70/100\n",
            "20/20 [==============================] - 0s 4ms/step - loss: 0.3950 - accuracy: 0.8143 - val_loss: 0.5285 - val_accuracy: 0.7727\n",
            "Epoch 71/100\n",
            "20/20 [==============================] - 0s 4ms/step - loss: 0.3941 - accuracy: 0.8127 - val_loss: 0.5271 - val_accuracy: 0.7727\n",
            "Epoch 72/100\n",
            "20/20 [==============================] - 0s 4ms/step - loss: 0.3937 - accuracy: 0.8094 - val_loss: 0.5279 - val_accuracy: 0.7662\n",
            "Epoch 73/100\n",
            "20/20 [==============================] - 0s 4ms/step - loss: 0.3932 - accuracy: 0.8111 - val_loss: 0.5294 - val_accuracy: 0.7662\n",
            "Epoch 74/100\n",
            "20/20 [==============================] - 0s 4ms/step - loss: 0.3928 - accuracy: 0.8176 - val_loss: 0.5319 - val_accuracy: 0.7727\n",
            "Epoch 75/100\n",
            "20/20 [==============================] - 0s 4ms/step - loss: 0.3924 - accuracy: 0.8127 - val_loss: 0.5304 - val_accuracy: 0.7727\n",
            "Epoch 76/100\n",
            "20/20 [==============================] - 0s 5ms/step - loss: 0.3917 - accuracy: 0.8143 - val_loss: 0.5306 - val_accuracy: 0.7727\n",
            "Epoch 77/100\n",
            "20/20 [==============================] - 0s 6ms/step - loss: 0.3911 - accuracy: 0.8160 - val_loss: 0.5348 - val_accuracy: 0.7727\n",
            "Epoch 78/100\n",
            "20/20 [==============================] - 0s 4ms/step - loss: 0.3904 - accuracy: 0.8160 - val_loss: 0.5329 - val_accuracy: 0.7597\n",
            "Epoch 79/100\n",
            "20/20 [==============================] - 0s 4ms/step - loss: 0.3905 - accuracy: 0.8241 - val_loss: 0.5326 - val_accuracy: 0.7727\n",
            "Epoch 80/100\n",
            "20/20 [==============================] - 0s 3ms/step - loss: 0.3894 - accuracy: 0.8192 - val_loss: 0.5355 - val_accuracy: 0.7857\n",
            "Epoch 81/100\n",
            "20/20 [==============================] - 0s 4ms/step - loss: 0.3895 - accuracy: 0.8160 - val_loss: 0.5379 - val_accuracy: 0.7662\n",
            "Epoch 82/100\n",
            "20/20 [==============================] - 0s 4ms/step - loss: 0.3880 - accuracy: 0.8143 - val_loss: 0.5356 - val_accuracy: 0.7792\n",
            "Epoch 83/100\n",
            "20/20 [==============================] - 0s 3ms/step - loss: 0.3884 - accuracy: 0.8127 - val_loss: 0.5347 - val_accuracy: 0.7792\n",
            "Epoch 84/100\n",
            "20/20 [==============================] - 0s 3ms/step - loss: 0.3875 - accuracy: 0.8127 - val_loss: 0.5335 - val_accuracy: 0.7727\n",
            "Epoch 85/100\n",
            "20/20 [==============================] - 0s 3ms/step - loss: 0.3867 - accuracy: 0.8143 - val_loss: 0.5378 - val_accuracy: 0.7662\n",
            "Epoch 86/100\n",
            "20/20 [==============================] - 0s 4ms/step - loss: 0.3861 - accuracy: 0.8127 - val_loss: 0.5365 - val_accuracy: 0.7727\n",
            "Epoch 87/100\n",
            "20/20 [==============================] - 0s 4ms/step - loss: 0.3863 - accuracy: 0.8176 - val_loss: 0.5366 - val_accuracy: 0.7662\n",
            "Epoch 88/100\n",
            "20/20 [==============================] - 0s 4ms/step - loss: 0.3853 - accuracy: 0.8111 - val_loss: 0.5406 - val_accuracy: 0.7468\n",
            "Epoch 89/100\n",
            "20/20 [==============================] - 0s 4ms/step - loss: 0.3860 - accuracy: 0.8111 - val_loss: 0.5426 - val_accuracy: 0.7532\n",
            "Epoch 90/100\n",
            "20/20 [==============================] - 0s 4ms/step - loss: 0.3850 - accuracy: 0.8111 - val_loss: 0.5400 - val_accuracy: 0.7468\n",
            "Epoch 91/100\n",
            "20/20 [==============================] - 0s 4ms/step - loss: 0.3851 - accuracy: 0.8111 - val_loss: 0.5397 - val_accuracy: 0.7532\n",
            "Epoch 92/100\n",
            "20/20 [==============================] - 0s 4ms/step - loss: 0.3836 - accuracy: 0.8143 - val_loss: 0.5379 - val_accuracy: 0.7727\n",
            "Epoch 93/100\n",
            "20/20 [==============================] - 0s 4ms/step - loss: 0.3826 - accuracy: 0.8143 - val_loss: 0.5359 - val_accuracy: 0.7597\n",
            "Epoch 94/100\n",
            "20/20 [==============================] - 0s 5ms/step - loss: 0.3817 - accuracy: 0.8192 - val_loss: 0.5417 - val_accuracy: 0.7597\n",
            "Epoch 95/100\n",
            "20/20 [==============================] - 0s 4ms/step - loss: 0.3815 - accuracy: 0.8192 - val_loss: 0.5397 - val_accuracy: 0.7662\n",
            "Epoch 96/100\n",
            "20/20 [==============================] - 0s 3ms/step - loss: 0.3814 - accuracy: 0.8160 - val_loss: 0.5392 - val_accuracy: 0.7597\n",
            "Epoch 97/100\n",
            "20/20 [==============================] - 0s 4ms/step - loss: 0.3807 - accuracy: 0.8208 - val_loss: 0.5411 - val_accuracy: 0.7727\n",
            "Epoch 98/100\n",
            "20/20 [==============================] - 0s 3ms/step - loss: 0.3804 - accuracy: 0.8143 - val_loss: 0.5430 - val_accuracy: 0.7662\n",
            "Epoch 99/100\n",
            "20/20 [==============================] - 0s 4ms/step - loss: 0.3793 - accuracy: 0.8208 - val_loss: 0.5431 - val_accuracy: 0.7727\n",
            "Epoch 100/100\n",
            "20/20 [==============================] - 0s 4ms/step - loss: 0.3788 - accuracy: 0.8192 - val_loss: 0.5451 - val_accuracy: 0.7662\n"
          ]
        },
        {
          "output_type": "execute_result",
          "data": {
            "text/plain": [
              "<keras.src.callbacks.History at 0x7af6e5162230>"
            ]
          },
          "metadata": {},
          "execution_count": 26
        }
      ]
    },
    {
      "cell_type": "markdown",
      "source": [
        "## Tuning no. of layers"
      ],
      "metadata": {
        "id": "39kAvisnRcRu"
      }
    },
    {
      "cell_type": "code",
      "source": [
        "def build_model(hp):\n",
        "  model = Sequential()\n",
        "\n",
        "  model.add(Dense(96, activation='relu', input_dim=8))\n",
        "\n",
        "  for i in range(hp.Int('layers', min_value=1, max_value=10)):\n",
        "    model.add(Dense(96, activation='relu'))\n",
        "\n",
        "  model.add(Dense(1, activation='sigmoid'))\n",
        "\n",
        "  model.compile(optimizer='Adam', loss='binary_crossentropy', metrics=['accuracy'])\n",
        "\n",
        "  return model"
      ],
      "metadata": {
        "id": "mbKptGFORXMR"
      },
      "execution_count": 27,
      "outputs": []
    },
    {
      "cell_type": "code",
      "source": [
        "tuner = kt.RandomSearch(build_model,\n",
        "                        objective='val_accuracy',\n",
        "                        max_trials=10,\n",
        "                        directory='keras tuner',\n",
        "                        project_name='number of layers tuning')"
      ],
      "metadata": {
        "id": "S18sclmUSjv9"
      },
      "execution_count": 28,
      "outputs": []
    },
    {
      "cell_type": "code",
      "source": [
        "tuner.search(X_train, y_train, epochs=10, validation_data=(X_test, y_test))"
      ],
      "metadata": {
        "id": "l1a7BVh7S6Bv",
        "colab": {
          "base_uri": "https://localhost:8080/"
        },
        "outputId": "aca9a3f1-6ab2-479f-ec42-b6ab0f958a56"
      },
      "execution_count": 29,
      "outputs": [
        {
          "output_type": "stream",
          "name": "stdout",
          "text": [
            "Trial 10 Complete [00h 00m 06s]\n",
            "val_accuracy: 0.7727272510528564\n",
            "\n",
            "Best val_accuracy So Far: 0.7922077775001526\n",
            "Total elapsed time: 00h 00m 44s\n"
          ]
        }
      ]
    },
    {
      "cell_type": "code",
      "source": [
        "tuner.get_best_hyperparameters()[0].values"
      ],
      "metadata": {
        "colab": {
          "base_uri": "https://localhost:8080/"
        },
        "id": "U4Hvp82pTBIY",
        "outputId": "af7d2846-4dcd-4ef3-feda-cad8d26b377c"
      },
      "execution_count": 30,
      "outputs": [
        {
          "output_type": "execute_result",
          "data": {
            "text/plain": [
              "{'layers': 1}"
            ]
          },
          "metadata": {},
          "execution_count": 30
        }
      ]
    },
    {
      "cell_type": "code",
      "source": [
        "model = tuner.get_best_models(num_models=1)[0]"
      ],
      "metadata": {
        "id": "3ntoYW2STUDz"
      },
      "execution_count": 31,
      "outputs": []
    },
    {
      "cell_type": "code",
      "source": [
        "model.summary()"
      ],
      "metadata": {
        "colab": {
          "base_uri": "https://localhost:8080/"
        },
        "id": "seACoFwGTZbt",
        "outputId": "a4d83f18-ff44-42f6-dcfa-d1163c923ebe"
      },
      "execution_count": 32,
      "outputs": [
        {
          "output_type": "stream",
          "name": "stdout",
          "text": [
            "Model: \"sequential\"\n",
            "_________________________________________________________________\n",
            " Layer (type)                Output Shape              Param #   \n",
            "=================================================================\n",
            " dense (Dense)               (None, 96)                864       \n",
            "                                                                 \n",
            " dense_1 (Dense)             (None, 96)                9312      \n",
            "                                                                 \n",
            " dense_2 (Dense)             (None, 1)                 97        \n",
            "                                                                 \n",
            "=================================================================\n",
            "Total params: 10273 (40.13 KB)\n",
            "Trainable params: 10273 (40.13 KB)\n",
            "Non-trainable params: 0 (0.00 Byte)\n",
            "_________________________________________________________________\n"
          ]
        }
      ]
    },
    {
      "cell_type": "code",
      "source": [
        "model.fit(X_train, y_train, epochs=100, initial_epoch=10, validation_data=(X_test, y_test))"
      ],
      "metadata": {
        "colab": {
          "base_uri": "https://localhost:8080/"
        },
        "id": "X1zeiO8dTa4x",
        "outputId": "455cfb16-637d-43d3-851e-0fefeb487344"
      },
      "execution_count": 33,
      "outputs": [
        {
          "output_type": "stream",
          "name": "stdout",
          "text": [
            "Epoch 11/100\n",
            "20/20 [==============================] - 1s 12ms/step - loss: 0.4731 - accuracy: 0.7785 - val_loss: 0.4898 - val_accuracy: 0.7792\n",
            "Epoch 12/100\n",
            "20/20 [==============================] - 0s 4ms/step - loss: 0.4506 - accuracy: 0.7883 - val_loss: 0.4920 - val_accuracy: 0.7727\n",
            "Epoch 13/100\n",
            "20/20 [==============================] - 0s 4ms/step - loss: 0.4407 - accuracy: 0.7899 - val_loss: 0.5026 - val_accuracy: 0.7727\n",
            "Epoch 14/100\n",
            "20/20 [==============================] - 0s 4ms/step - loss: 0.4315 - accuracy: 0.7948 - val_loss: 0.5074 - val_accuracy: 0.7662\n",
            "Epoch 15/100\n",
            "20/20 [==============================] - 0s 4ms/step - loss: 0.4233 - accuracy: 0.8062 - val_loss: 0.5150 - val_accuracy: 0.7662\n",
            "Epoch 16/100\n",
            "20/20 [==============================] - 0s 5ms/step - loss: 0.4216 - accuracy: 0.8029 - val_loss: 0.5117 - val_accuracy: 0.7662\n",
            "Epoch 17/100\n",
            "20/20 [==============================] - 0s 5ms/step - loss: 0.4151 - accuracy: 0.8046 - val_loss: 0.5107 - val_accuracy: 0.7792\n",
            "Epoch 18/100\n",
            "20/20 [==============================] - 0s 5ms/step - loss: 0.4070 - accuracy: 0.7997 - val_loss: 0.5191 - val_accuracy: 0.7662\n",
            "Epoch 19/100\n",
            "20/20 [==============================] - 0s 3ms/step - loss: 0.4050 - accuracy: 0.8046 - val_loss: 0.5246 - val_accuracy: 0.7727\n",
            "Epoch 20/100\n",
            "20/20 [==============================] - 0s 4ms/step - loss: 0.3999 - accuracy: 0.8143 - val_loss: 0.5273 - val_accuracy: 0.7662\n",
            "Epoch 21/100\n",
            "20/20 [==============================] - 0s 4ms/step - loss: 0.3969 - accuracy: 0.8094 - val_loss: 0.5285 - val_accuracy: 0.7662\n",
            "Epoch 22/100\n",
            "20/20 [==============================] - 0s 4ms/step - loss: 0.3945 - accuracy: 0.8094 - val_loss: 0.5316 - val_accuracy: 0.7532\n",
            "Epoch 23/100\n",
            "20/20 [==============================] - 0s 4ms/step - loss: 0.3907 - accuracy: 0.8192 - val_loss: 0.5394 - val_accuracy: 0.7532\n",
            "Epoch 24/100\n",
            "20/20 [==============================] - 0s 4ms/step - loss: 0.3854 - accuracy: 0.8094 - val_loss: 0.5320 - val_accuracy: 0.7532\n",
            "Epoch 25/100\n",
            "20/20 [==============================] - 0s 4ms/step - loss: 0.3835 - accuracy: 0.8257 - val_loss: 0.5325 - val_accuracy: 0.7532\n",
            "Epoch 26/100\n",
            "20/20 [==============================] - 0s 4ms/step - loss: 0.3785 - accuracy: 0.8274 - val_loss: 0.5412 - val_accuracy: 0.7468\n",
            "Epoch 27/100\n",
            "20/20 [==============================] - 0s 3ms/step - loss: 0.3770 - accuracy: 0.8274 - val_loss: 0.5458 - val_accuracy: 0.7468\n",
            "Epoch 28/100\n",
            "20/20 [==============================] - 0s 4ms/step - loss: 0.3737 - accuracy: 0.8192 - val_loss: 0.5483 - val_accuracy: 0.7468\n",
            "Epoch 29/100\n",
            "20/20 [==============================] - 0s 4ms/step - loss: 0.3738 - accuracy: 0.8274 - val_loss: 0.5561 - val_accuracy: 0.7597\n",
            "Epoch 30/100\n",
            "20/20 [==============================] - 0s 4ms/step - loss: 0.3674 - accuracy: 0.8388 - val_loss: 0.5461 - val_accuracy: 0.7338\n",
            "Epoch 31/100\n",
            "20/20 [==============================] - 0s 3ms/step - loss: 0.3658 - accuracy: 0.8355 - val_loss: 0.5509 - val_accuracy: 0.7403\n",
            "Epoch 32/100\n",
            "20/20 [==============================] - 0s 3ms/step - loss: 0.3614 - accuracy: 0.8371 - val_loss: 0.5787 - val_accuracy: 0.7403\n",
            "Epoch 33/100\n",
            "20/20 [==============================] - 0s 4ms/step - loss: 0.3644 - accuracy: 0.8322 - val_loss: 0.5567 - val_accuracy: 0.7338\n",
            "Epoch 34/100\n",
            "20/20 [==============================] - 0s 4ms/step - loss: 0.3610 - accuracy: 0.8371 - val_loss: 0.5563 - val_accuracy: 0.7468\n",
            "Epoch 35/100\n",
            "20/20 [==============================] - 0s 4ms/step - loss: 0.3543 - accuracy: 0.8388 - val_loss: 0.5671 - val_accuracy: 0.7338\n",
            "Epoch 36/100\n",
            "20/20 [==============================] - 0s 5ms/step - loss: 0.3506 - accuracy: 0.8453 - val_loss: 0.5638 - val_accuracy: 0.7403\n",
            "Epoch 37/100\n",
            "20/20 [==============================] - 0s 4ms/step - loss: 0.3460 - accuracy: 0.8469 - val_loss: 0.5703 - val_accuracy: 0.7338\n",
            "Epoch 38/100\n",
            "20/20 [==============================] - 0s 4ms/step - loss: 0.3443 - accuracy: 0.8453 - val_loss: 0.5728 - val_accuracy: 0.7403\n",
            "Epoch 39/100\n",
            "20/20 [==============================] - 0s 4ms/step - loss: 0.3410 - accuracy: 0.8599 - val_loss: 0.5723 - val_accuracy: 0.7403\n",
            "Epoch 40/100\n",
            "20/20 [==============================] - 0s 4ms/step - loss: 0.3449 - accuracy: 0.8436 - val_loss: 0.5789 - val_accuracy: 0.7338\n",
            "Epoch 41/100\n",
            "20/20 [==============================] - 0s 4ms/step - loss: 0.3404 - accuracy: 0.8485 - val_loss: 0.5711 - val_accuracy: 0.7532\n",
            "Epoch 42/100\n",
            "20/20 [==============================] - 0s 4ms/step - loss: 0.3348 - accuracy: 0.8388 - val_loss: 0.5839 - val_accuracy: 0.7468\n",
            "Epoch 43/100\n",
            "20/20 [==============================] - 0s 4ms/step - loss: 0.3375 - accuracy: 0.8502 - val_loss: 0.5807 - val_accuracy: 0.7403\n",
            "Epoch 44/100\n",
            "20/20 [==============================] - 0s 4ms/step - loss: 0.3280 - accuracy: 0.8567 - val_loss: 0.5797 - val_accuracy: 0.7468\n",
            "Epoch 45/100\n",
            "20/20 [==============================] - 0s 4ms/step - loss: 0.3307 - accuracy: 0.8567 - val_loss: 0.5935 - val_accuracy: 0.7532\n",
            "Epoch 46/100\n",
            "20/20 [==============================] - 0s 4ms/step - loss: 0.3240 - accuracy: 0.8648 - val_loss: 0.5885 - val_accuracy: 0.7468\n",
            "Epoch 47/100\n",
            "20/20 [==============================] - 0s 3ms/step - loss: 0.3201 - accuracy: 0.8697 - val_loss: 0.5858 - val_accuracy: 0.7468\n",
            "Epoch 48/100\n",
            "20/20 [==============================] - 0s 4ms/step - loss: 0.3136 - accuracy: 0.8648 - val_loss: 0.5955 - val_accuracy: 0.7403\n",
            "Epoch 49/100\n",
            "20/20 [==============================] - 0s 4ms/step - loss: 0.3123 - accuracy: 0.8616 - val_loss: 0.6053 - val_accuracy: 0.7468\n",
            "Epoch 50/100\n",
            "20/20 [==============================] - 0s 4ms/step - loss: 0.3127 - accuracy: 0.8648 - val_loss: 0.5946 - val_accuracy: 0.7468\n",
            "Epoch 51/100\n",
            "20/20 [==============================] - 0s 4ms/step - loss: 0.3073 - accuracy: 0.8632 - val_loss: 0.5885 - val_accuracy: 0.7403\n",
            "Epoch 52/100\n",
            "20/20 [==============================] - 0s 4ms/step - loss: 0.3035 - accuracy: 0.8730 - val_loss: 0.5991 - val_accuracy: 0.7532\n",
            "Epoch 53/100\n",
            "20/20 [==============================] - 0s 4ms/step - loss: 0.3026 - accuracy: 0.8648 - val_loss: 0.6012 - val_accuracy: 0.7338\n",
            "Epoch 54/100\n",
            "20/20 [==============================] - 0s 4ms/step - loss: 0.2940 - accuracy: 0.8730 - val_loss: 0.6099 - val_accuracy: 0.7468\n",
            "Epoch 55/100\n",
            "20/20 [==============================] - 0s 3ms/step - loss: 0.2917 - accuracy: 0.8681 - val_loss: 0.6151 - val_accuracy: 0.7403\n",
            "Epoch 56/100\n",
            "20/20 [==============================] - 0s 4ms/step - loss: 0.2920 - accuracy: 0.8827 - val_loss: 0.6131 - val_accuracy: 0.7532\n",
            "Epoch 57/100\n",
            "20/20 [==============================] - 0s 4ms/step - loss: 0.2857 - accuracy: 0.8795 - val_loss: 0.6251 - val_accuracy: 0.7403\n",
            "Epoch 58/100\n",
            "20/20 [==============================] - 0s 4ms/step - loss: 0.2894 - accuracy: 0.8779 - val_loss: 0.6290 - val_accuracy: 0.7403\n",
            "Epoch 59/100\n",
            "20/20 [==============================] - 0s 4ms/step - loss: 0.2958 - accuracy: 0.8844 - val_loss: 0.6191 - val_accuracy: 0.7403\n",
            "Epoch 60/100\n",
            "20/20 [==============================] - 0s 4ms/step - loss: 0.2862 - accuracy: 0.8811 - val_loss: 0.6178 - val_accuracy: 0.7597\n",
            "Epoch 61/100\n",
            "20/20 [==============================] - 0s 4ms/step - loss: 0.2751 - accuracy: 0.8893 - val_loss: 0.6199 - val_accuracy: 0.7338\n",
            "Epoch 62/100\n",
            "20/20 [==============================] - 0s 4ms/step - loss: 0.2839 - accuracy: 0.8811 - val_loss: 0.6218 - val_accuracy: 0.7403\n",
            "Epoch 63/100\n",
            "20/20 [==============================] - 0s 4ms/step - loss: 0.2748 - accuracy: 0.8844 - val_loss: 0.6323 - val_accuracy: 0.7662\n",
            "Epoch 64/100\n",
            "20/20 [==============================] - 0s 4ms/step - loss: 0.2644 - accuracy: 0.8974 - val_loss: 0.6406 - val_accuracy: 0.7338\n",
            "Epoch 65/100\n",
            "20/20 [==============================] - 0s 4ms/step - loss: 0.2703 - accuracy: 0.8941 - val_loss: 0.6379 - val_accuracy: 0.7273\n",
            "Epoch 66/100\n",
            "20/20 [==============================] - 0s 4ms/step - loss: 0.2638 - accuracy: 0.8958 - val_loss: 0.6340 - val_accuracy: 0.7403\n",
            "Epoch 67/100\n",
            "20/20 [==============================] - 0s 4ms/step - loss: 0.2597 - accuracy: 0.8958 - val_loss: 0.6412 - val_accuracy: 0.7403\n",
            "Epoch 68/100\n",
            "20/20 [==============================] - 0s 4ms/step - loss: 0.2595 - accuracy: 0.9007 - val_loss: 0.6610 - val_accuracy: 0.7403\n",
            "Epoch 69/100\n",
            "20/20 [==============================] - 0s 4ms/step - loss: 0.2559 - accuracy: 0.8958 - val_loss: 0.6495 - val_accuracy: 0.7403\n",
            "Epoch 70/100\n",
            "20/20 [==============================] - 0s 4ms/step - loss: 0.2523 - accuracy: 0.9023 - val_loss: 0.6539 - val_accuracy: 0.7532\n",
            "Epoch 71/100\n",
            "20/20 [==============================] - 0s 4ms/step - loss: 0.2466 - accuracy: 0.9088 - val_loss: 0.6472 - val_accuracy: 0.7273\n",
            "Epoch 72/100\n",
            "20/20 [==============================] - 0s 5ms/step - loss: 0.2479 - accuracy: 0.9072 - val_loss: 0.6686 - val_accuracy: 0.7468\n",
            "Epoch 73/100\n",
            "20/20 [==============================] - 0s 4ms/step - loss: 0.2449 - accuracy: 0.9088 - val_loss: 0.6654 - val_accuracy: 0.7338\n",
            "Epoch 74/100\n",
            "20/20 [==============================] - 0s 4ms/step - loss: 0.2379 - accuracy: 0.9121 - val_loss: 0.6613 - val_accuracy: 0.7273\n",
            "Epoch 75/100\n",
            "20/20 [==============================] - 0s 4ms/step - loss: 0.2381 - accuracy: 0.9137 - val_loss: 0.6671 - val_accuracy: 0.7273\n",
            "Epoch 76/100\n",
            "20/20 [==============================] - 0s 5ms/step - loss: 0.2312 - accuracy: 0.9137 - val_loss: 0.6692 - val_accuracy: 0.7597\n",
            "Epoch 77/100\n",
            "20/20 [==============================] - 0s 4ms/step - loss: 0.2313 - accuracy: 0.9169 - val_loss: 0.6735 - val_accuracy: 0.7273\n",
            "Epoch 78/100\n",
            "20/20 [==============================] - 0s 5ms/step - loss: 0.2252 - accuracy: 0.9267 - val_loss: 0.6645 - val_accuracy: 0.7403\n",
            "Epoch 79/100\n",
            "20/20 [==============================] - 0s 5ms/step - loss: 0.2269 - accuracy: 0.9088 - val_loss: 0.6806 - val_accuracy: 0.7403\n",
            "Epoch 80/100\n",
            "20/20 [==============================] - 0s 8ms/step - loss: 0.2291 - accuracy: 0.9235 - val_loss: 0.6924 - val_accuracy: 0.7273\n",
            "Epoch 81/100\n",
            "20/20 [==============================] - 0s 9ms/step - loss: 0.2190 - accuracy: 0.9251 - val_loss: 0.6842 - val_accuracy: 0.7273\n",
            "Epoch 82/100\n",
            "20/20 [==============================] - 0s 7ms/step - loss: 0.2174 - accuracy: 0.9235 - val_loss: 0.6785 - val_accuracy: 0.7468\n",
            "Epoch 83/100\n",
            "20/20 [==============================] - 0s 7ms/step - loss: 0.2220 - accuracy: 0.9137 - val_loss: 0.7050 - val_accuracy: 0.7273\n",
            "Epoch 84/100\n",
            "20/20 [==============================] - 0s 6ms/step - loss: 0.2153 - accuracy: 0.9251 - val_loss: 0.6965 - val_accuracy: 0.7403\n",
            "Epoch 85/100\n",
            "20/20 [==============================] - 0s 5ms/step - loss: 0.2091 - accuracy: 0.9218 - val_loss: 0.6960 - val_accuracy: 0.7273\n",
            "Epoch 86/100\n",
            "20/20 [==============================] - 0s 6ms/step - loss: 0.2045 - accuracy: 0.9316 - val_loss: 0.6984 - val_accuracy: 0.7338\n",
            "Epoch 87/100\n",
            "20/20 [==============================] - 0s 6ms/step - loss: 0.2048 - accuracy: 0.9202 - val_loss: 0.7015 - val_accuracy: 0.7208\n",
            "Epoch 88/100\n",
            "20/20 [==============================] - 0s 5ms/step - loss: 0.2062 - accuracy: 0.9267 - val_loss: 0.7085 - val_accuracy: 0.7468\n",
            "Epoch 89/100\n",
            "20/20 [==============================] - 0s 7ms/step - loss: 0.2053 - accuracy: 0.9202 - val_loss: 0.7171 - val_accuracy: 0.7338\n",
            "Epoch 90/100\n",
            "20/20 [==============================] - 0s 6ms/step - loss: 0.1953 - accuracy: 0.9365 - val_loss: 0.6941 - val_accuracy: 0.7208\n",
            "Epoch 91/100\n",
            "20/20 [==============================] - 0s 6ms/step - loss: 0.1921 - accuracy: 0.9316 - val_loss: 0.7150 - val_accuracy: 0.7273\n",
            "Epoch 92/100\n",
            "20/20 [==============================] - 0s 6ms/step - loss: 0.1897 - accuracy: 0.9414 - val_loss: 0.7151 - val_accuracy: 0.7273\n",
            "Epoch 93/100\n",
            "20/20 [==============================] - 0s 7ms/step - loss: 0.1845 - accuracy: 0.9446 - val_loss: 0.7370 - val_accuracy: 0.7273\n",
            "Epoch 94/100\n",
            "20/20 [==============================] - 0s 7ms/step - loss: 0.1837 - accuracy: 0.9463 - val_loss: 0.7333 - val_accuracy: 0.7208\n",
            "Epoch 95/100\n",
            "20/20 [==============================] - 0s 5ms/step - loss: 0.1800 - accuracy: 0.9463 - val_loss: 0.7402 - val_accuracy: 0.7273\n",
            "Epoch 96/100\n",
            "20/20 [==============================] - 0s 7ms/step - loss: 0.1807 - accuracy: 0.9414 - val_loss: 0.7394 - val_accuracy: 0.7143\n",
            "Epoch 97/100\n",
            "20/20 [==============================] - 0s 7ms/step - loss: 0.1793 - accuracy: 0.9446 - val_loss: 0.8108 - val_accuracy: 0.7078\n",
            "Epoch 98/100\n",
            "20/20 [==============================] - 0s 6ms/step - loss: 0.1808 - accuracy: 0.9365 - val_loss: 0.7446 - val_accuracy: 0.7208\n",
            "Epoch 99/100\n",
            "20/20 [==============================] - 0s 6ms/step - loss: 0.1717 - accuracy: 0.9495 - val_loss: 0.7367 - val_accuracy: 0.7143\n",
            "Epoch 100/100\n",
            "20/20 [==============================] - 0s 6ms/step - loss: 0.1683 - accuracy: 0.9528 - val_loss: 0.7662 - val_accuracy: 0.7338\n"
          ]
        },
        {
          "output_type": "execute_result",
          "data": {
            "text/plain": [
              "<keras.src.callbacks.History at 0x7af6df3e0af0>"
            ]
          },
          "metadata": {},
          "execution_count": 33
        }
      ]
    },
    {
      "cell_type": "markdown",
      "source": [
        "## All in one model"
      ],
      "metadata": {
        "id": "eTMvtn83Txhj"
      }
    },
    {
      "cell_type": "code",
      "source": [
        "def build_model(hp):\n",
        "  model = Sequential()\n",
        "\n",
        "  counter = 0\n",
        "  activations = ['relu','sigmoid','softmax','softplus','softsign','tanh','selu','elu','exponential',\n",
        "                 'leaky_relu','relu6','silu','hard_silu','gelu','hard_sigmoid','linear','mish','log_softmax']\n",
        "  dropout_rates = [0.1,0.2,0.3,0.4,0.5,0.6,0.7,0.8,0.9]\n",
        "\n",
        "  for i in range(hp.Int('layers', min_value=1, max_value=10)):\n",
        "    if counter==0:\n",
        "      model.add(Dense(units=hp.Int(f'node_{i}', min_value=8, max_value=128, step=128),\n",
        "                      activation=hp.Choice(f'activation_{i}', activations),\n",
        "                      input_dim=8))\n",
        "      if hp.Boolean('dropout'):\n",
        "        model.add(Dropout(hp.Choice(f'dropout_{i}', dropout_rates)))\n",
        "\n",
        "    else:\n",
        "      model.add(Dense(units=hp.Int(f'node_{i}', min_value=8, max_value=128, step=128),\n",
        "                      activation=hp.Choice(f'activation_{i}', activations)))\n",
        "      if hp.Boolean('dropout'):\n",
        "        model.add(Dropout(hp.Choice(f'dropout_{i}', dropout_rates)))\n",
        "\n",
        "    counter+=1\n",
        "\n",
        "  model.add(Dense(1, activation='sigmoid'))\n",
        "\n",
        "  optimizer = hp.Choice('optimizer', ['SGD','RMSprop','Adam','AdamW',\n",
        "                                      'Adadelta','Adagrad','Adamax','Adafactor',\n",
        "                                      'Nadam','Ftrl','Lion','Loss Scale Optimizer'])\n",
        "\n",
        "  model.compile(optimizer=optimizer, loss = 'binary_crossentropy', metrics=['accuracy'])\n",
        "\n",
        "  return model"
      ],
      "metadata": {
        "id": "4M-wheI_TkFZ"
      },
      "execution_count": 34,
      "outputs": []
    },
    {
      "cell_type": "code",
      "source": [
        "tuner = kt.RandomSearch(build_model,\n",
        "                        objective='val_accuracy',\n",
        "                        max_trials=10,\n",
        "                        directory='keras tuner',\n",
        "                        project_name='all in one tuning')"
      ],
      "metadata": {
        "id": "3pDW4X4NYvSb"
      },
      "execution_count": 35,
      "outputs": []
    },
    {
      "cell_type": "code",
      "source": [
        "tuner.search(X_train, y_train, epochs=10, validation_data=(X_test, y_test))"
      ],
      "metadata": {
        "id": "T8-x2vC-ZA_C",
        "colab": {
          "base_uri": "https://localhost:8080/"
        },
        "outputId": "489d100e-934f-487a-84f4-ab8e0253fef2"
      },
      "execution_count": 36,
      "outputs": [
        {
          "output_type": "stream",
          "name": "stdout",
          "text": [
            "Trial 10 Complete [00h 00m 03s]\n",
            "val_accuracy: 0.6298701167106628\n",
            "\n",
            "Best val_accuracy So Far: 0.7077922224998474\n",
            "Total elapsed time: 00h 00m 30s\n"
          ]
        }
      ]
    },
    {
      "cell_type": "code",
      "source": [
        "tuner.get_best_hyperparameters()[0].values"
      ],
      "metadata": {
        "colab": {
          "base_uri": "https://localhost:8080/"
        },
        "id": "blx8fvFKZHyI",
        "outputId": "c36ab83c-ea2e-4364-ebcb-885996619cc8"
      },
      "execution_count": 37,
      "outputs": [
        {
          "output_type": "execute_result",
          "data": {
            "text/plain": [
              "{'layers': 10,\n",
              " 'node_0': 8,\n",
              " 'activation_0': 'gelu',\n",
              " 'dropout': True,\n",
              " 'optimizer': 'Adam',\n",
              " 'dropout_0': 0.1,\n",
              " 'node_1': 8,\n",
              " 'activation_1': 'relu',\n",
              " 'dropout_1': 0.1,\n",
              " 'node_2': 8,\n",
              " 'activation_2': 'relu',\n",
              " 'dropout_2': 0.1,\n",
              " 'node_3': 8,\n",
              " 'activation_3': 'relu',\n",
              " 'dropout_3': 0.1,\n",
              " 'node_4': 8,\n",
              " 'activation_4': 'relu',\n",
              " 'dropout_4': 0.1,\n",
              " 'node_5': 8,\n",
              " 'activation_5': 'relu',\n",
              " 'dropout_5': 0.1,\n",
              " 'node_6': 8,\n",
              " 'activation_6': 'relu',\n",
              " 'dropout_6': 0.1,\n",
              " 'node_7': 8,\n",
              " 'activation_7': 'relu',\n",
              " 'dropout_7': 0.1,\n",
              " 'node_8': 8,\n",
              " 'activation_8': 'relu',\n",
              " 'dropout_8': 0.1,\n",
              " 'node_9': 8,\n",
              " 'activation_9': 'relu',\n",
              " 'dropout_9': 0.1}"
            ]
          },
          "metadata": {},
          "execution_count": 37
        }
      ]
    },
    {
      "cell_type": "code",
      "source": [
        "model = tuner.get_best_models(num_models=1)[0]"
      ],
      "metadata": {
        "id": "GMD2pMp6ZZyK"
      },
      "execution_count": 38,
      "outputs": []
    },
    {
      "cell_type": "code",
      "source": [
        "model.summary()"
      ],
      "metadata": {
        "id": "T9Wk7in4ZsGd",
        "colab": {
          "base_uri": "https://localhost:8080/"
        },
        "outputId": "5ab72e11-3d6a-4d77-fcf3-a093b36c3d10"
      },
      "execution_count": 39,
      "outputs": [
        {
          "output_type": "stream",
          "name": "stdout",
          "text": [
            "Model: \"sequential\"\n",
            "_________________________________________________________________\n",
            " Layer (type)                Output Shape              Param #   \n",
            "=================================================================\n",
            " dense (Dense)               (None, 8)                 72        \n",
            "                                                                 \n",
            " dropout (Dropout)           (None, 8)                 0         \n",
            "                                                                 \n",
            " dense_1 (Dense)             (None, 8)                 72        \n",
            "                                                                 \n",
            " dropout_1 (Dropout)         (None, 8)                 0         \n",
            "                                                                 \n",
            " dense_2 (Dense)             (None, 8)                 72        \n",
            "                                                                 \n",
            " dropout_2 (Dropout)         (None, 8)                 0         \n",
            "                                                                 \n",
            " dense_3 (Dense)             (None, 8)                 72        \n",
            "                                                                 \n",
            " dropout_3 (Dropout)         (None, 8)                 0         \n",
            "                                                                 \n",
            " dense_4 (Dense)             (None, 8)                 72        \n",
            "                                                                 \n",
            " dropout_4 (Dropout)         (None, 8)                 0         \n",
            "                                                                 \n",
            " dense_5 (Dense)             (None, 8)                 72        \n",
            "                                                                 \n",
            " dropout_5 (Dropout)         (None, 8)                 0         \n",
            "                                                                 \n",
            " dense_6 (Dense)             (None, 8)                 72        \n",
            "                                                                 \n",
            " dropout_6 (Dropout)         (None, 8)                 0         \n",
            "                                                                 \n",
            " dense_7 (Dense)             (None, 8)                 72        \n",
            "                                                                 \n",
            " dropout_7 (Dropout)         (None, 8)                 0         \n",
            "                                                                 \n",
            " dense_8 (Dense)             (None, 8)                 72        \n",
            "                                                                 \n",
            " dropout_8 (Dropout)         (None, 8)                 0         \n",
            "                                                                 \n",
            " dense_9 (Dense)             (None, 8)                 72        \n",
            "                                                                 \n",
            " dropout_9 (Dropout)         (None, 8)                 0         \n",
            "                                                                 \n",
            " dense_10 (Dense)            (None, 1)                 9         \n",
            "                                                                 \n",
            "=================================================================\n",
            "Total params: 729 (2.85 KB)\n",
            "Trainable params: 729 (2.85 KB)\n",
            "Non-trainable params: 0 (0.00 Byte)\n",
            "_________________________________________________________________\n"
          ]
        }
      ]
    },
    {
      "cell_type": "code",
      "source": [
        "model.fit(X_train, y_train, epochs=100, initial_epoch=10, validation_data=(X_test, y_test))"
      ],
      "metadata": {
        "id": "qb-o7DxGZt3b",
        "colab": {
          "base_uri": "https://localhost:8080/"
        },
        "outputId": "0d9c0b32-c7e0-47c2-be89-3715974a9861"
      },
      "execution_count": 40,
      "outputs": [
        {
          "output_type": "stream",
          "name": "stdout",
          "text": [
            "Epoch 11/100\n",
            "20/20 [==============================] - 4s 21ms/step - loss: 0.5778 - accuracy: 0.7101 - val_loss: 0.5527 - val_accuracy: 0.7143\n",
            "Epoch 12/100\n",
            "20/20 [==============================] - 0s 7ms/step - loss: 0.5771 - accuracy: 0.7199 - val_loss: 0.5465 - val_accuracy: 0.7208\n",
            "Epoch 13/100\n",
            "20/20 [==============================] - 0s 9ms/step - loss: 0.5688 - accuracy: 0.7134 - val_loss: 0.5430 - val_accuracy: 0.7143\n",
            "Epoch 14/100\n",
            "20/20 [==============================] - 0s 7ms/step - loss: 0.5540 - accuracy: 0.7215 - val_loss: 0.5419 - val_accuracy: 0.7078\n",
            "Epoch 15/100\n",
            "20/20 [==============================] - 0s 7ms/step - loss: 0.5666 - accuracy: 0.7101 - val_loss: 0.5501 - val_accuracy: 0.7013\n",
            "Epoch 16/100\n",
            "20/20 [==============================] - 0s 7ms/step - loss: 0.5449 - accuracy: 0.7264 - val_loss: 0.5372 - val_accuracy: 0.7013\n",
            "Epoch 17/100\n",
            "20/20 [==============================] - 0s 6ms/step - loss: 0.5342 - accuracy: 0.7378 - val_loss: 0.5295 - val_accuracy: 0.7078\n",
            "Epoch 18/100\n",
            "20/20 [==============================] - 0s 5ms/step - loss: 0.5656 - accuracy: 0.7020 - val_loss: 0.5271 - val_accuracy: 0.7143\n",
            "Epoch 19/100\n",
            "20/20 [==============================] - 0s 5ms/step - loss: 0.5563 - accuracy: 0.7296 - val_loss: 0.5253 - val_accuracy: 0.7208\n",
            "Epoch 20/100\n",
            "20/20 [==============================] - 0s 4ms/step - loss: 0.5605 - accuracy: 0.7182 - val_loss: 0.5209 - val_accuracy: 0.7143\n",
            "Epoch 21/100\n",
            "20/20 [==============================] - 0s 6ms/step - loss: 0.5299 - accuracy: 0.7557 - val_loss: 0.5186 - val_accuracy: 0.7208\n",
            "Epoch 22/100\n",
            "20/20 [==============================] - 0s 5ms/step - loss: 0.5334 - accuracy: 0.7264 - val_loss: 0.5180 - val_accuracy: 0.7208\n",
            "Epoch 23/100\n",
            "20/20 [==============================] - 0s 6ms/step - loss: 0.5351 - accuracy: 0.7394 - val_loss: 0.5140 - val_accuracy: 0.7338\n",
            "Epoch 24/100\n",
            "20/20 [==============================] - 0s 6ms/step - loss: 0.5496 - accuracy: 0.7150 - val_loss: 0.5101 - val_accuracy: 0.7208\n",
            "Epoch 25/100\n",
            "20/20 [==============================] - 0s 5ms/step - loss: 0.5256 - accuracy: 0.7443 - val_loss: 0.5183 - val_accuracy: 0.7143\n",
            "Epoch 26/100\n",
            "20/20 [==============================] - 0s 5ms/step - loss: 0.5216 - accuracy: 0.7394 - val_loss: 0.5169 - val_accuracy: 0.7143\n",
            "Epoch 27/100\n",
            "20/20 [==============================] - 0s 5ms/step - loss: 0.5285 - accuracy: 0.7313 - val_loss: 0.5172 - val_accuracy: 0.7273\n",
            "Epoch 28/100\n",
            "20/20 [==============================] - 0s 5ms/step - loss: 0.5239 - accuracy: 0.7476 - val_loss: 0.5188 - val_accuracy: 0.7208\n",
            "Epoch 29/100\n",
            "20/20 [==============================] - 0s 5ms/step - loss: 0.5321 - accuracy: 0.7296 - val_loss: 0.5159 - val_accuracy: 0.7208\n",
            "Epoch 30/100\n",
            "20/20 [==============================] - 0s 6ms/step - loss: 0.5221 - accuracy: 0.7459 - val_loss: 0.5128 - val_accuracy: 0.7273\n",
            "Epoch 31/100\n",
            "20/20 [==============================] - 0s 5ms/step - loss: 0.5283 - accuracy: 0.7280 - val_loss: 0.5118 - val_accuracy: 0.7403\n",
            "Epoch 32/100\n",
            "20/20 [==============================] - 0s 5ms/step - loss: 0.5374 - accuracy: 0.7394 - val_loss: 0.5111 - val_accuracy: 0.7273\n",
            "Epoch 33/100\n",
            "20/20 [==============================] - 0s 5ms/step - loss: 0.5131 - accuracy: 0.7215 - val_loss: 0.5112 - val_accuracy: 0.7273\n",
            "Epoch 34/100\n",
            "20/20 [==============================] - 0s 5ms/step - loss: 0.5293 - accuracy: 0.7459 - val_loss: 0.5107 - val_accuracy: 0.7273\n",
            "Epoch 35/100\n",
            "20/20 [==============================] - 0s 5ms/step - loss: 0.5204 - accuracy: 0.7443 - val_loss: 0.5101 - val_accuracy: 0.7273\n",
            "Epoch 36/100\n",
            "20/20 [==============================] - 0s 5ms/step - loss: 0.5102 - accuracy: 0.7378 - val_loss: 0.5093 - val_accuracy: 0.7338\n",
            "Epoch 37/100\n",
            "20/20 [==============================] - 0s 5ms/step - loss: 0.5278 - accuracy: 0.7427 - val_loss: 0.5113 - val_accuracy: 0.7273\n",
            "Epoch 38/100\n",
            "20/20 [==============================] - 0s 5ms/step - loss: 0.4979 - accuracy: 0.7410 - val_loss: 0.5158 - val_accuracy: 0.7208\n",
            "Epoch 39/100\n",
            "20/20 [==============================] - 0s 5ms/step - loss: 0.5160 - accuracy: 0.7329 - val_loss: 0.5181 - val_accuracy: 0.7208\n",
            "Epoch 40/100\n",
            "20/20 [==============================] - 0s 5ms/step - loss: 0.4820 - accuracy: 0.7720 - val_loss: 0.5148 - val_accuracy: 0.7468\n",
            "Epoch 41/100\n",
            "20/20 [==============================] - 0s 5ms/step - loss: 0.5085 - accuracy: 0.7622 - val_loss: 0.5064 - val_accuracy: 0.7468\n",
            "Epoch 42/100\n",
            "20/20 [==============================] - 0s 5ms/step - loss: 0.4974 - accuracy: 0.7736 - val_loss: 0.4988 - val_accuracy: 0.7532\n",
            "Epoch 43/100\n",
            "20/20 [==============================] - 0s 6ms/step - loss: 0.5198 - accuracy: 0.7313 - val_loss: 0.5014 - val_accuracy: 0.7468\n",
            "Epoch 44/100\n",
            "20/20 [==============================] - 0s 6ms/step - loss: 0.5017 - accuracy: 0.7508 - val_loss: 0.5002 - val_accuracy: 0.7468\n",
            "Epoch 45/100\n",
            "20/20 [==============================] - 0s 5ms/step - loss: 0.5098 - accuracy: 0.7378 - val_loss: 0.4976 - val_accuracy: 0.7532\n",
            "Epoch 46/100\n",
            "20/20 [==============================] - 0s 5ms/step - loss: 0.4913 - accuracy: 0.7443 - val_loss: 0.5021 - val_accuracy: 0.7468\n",
            "Epoch 47/100\n",
            "20/20 [==============================] - 0s 5ms/step - loss: 0.4897 - accuracy: 0.7541 - val_loss: 0.5018 - val_accuracy: 0.7468\n",
            "Epoch 48/100\n",
            "20/20 [==============================] - 0s 5ms/step - loss: 0.5048 - accuracy: 0.7410 - val_loss: 0.5030 - val_accuracy: 0.7403\n",
            "Epoch 49/100\n",
            "20/20 [==============================] - 0s 6ms/step - loss: 0.4803 - accuracy: 0.7720 - val_loss: 0.4966 - val_accuracy: 0.7338\n",
            "Epoch 50/100\n",
            "20/20 [==============================] - 0s 5ms/step - loss: 0.4833 - accuracy: 0.7720 - val_loss: 0.4960 - val_accuracy: 0.7338\n",
            "Epoch 51/100\n",
            "20/20 [==============================] - 0s 5ms/step - loss: 0.4963 - accuracy: 0.7704 - val_loss: 0.4962 - val_accuracy: 0.7338\n",
            "Epoch 52/100\n",
            "20/20 [==============================] - 0s 6ms/step - loss: 0.5117 - accuracy: 0.7573 - val_loss: 0.4950 - val_accuracy: 0.7532\n",
            "Epoch 53/100\n",
            "20/20 [==============================] - 0s 5ms/step - loss: 0.4942 - accuracy: 0.7459 - val_loss: 0.4940 - val_accuracy: 0.7468\n",
            "Epoch 54/100\n",
            "20/20 [==============================] - 0s 6ms/step - loss: 0.4895 - accuracy: 0.7410 - val_loss: 0.4925 - val_accuracy: 0.7468\n",
            "Epoch 55/100\n",
            "20/20 [==============================] - 0s 6ms/step - loss: 0.4874 - accuracy: 0.7492 - val_loss: 0.4922 - val_accuracy: 0.7468\n",
            "Epoch 56/100\n",
            "20/20 [==============================] - 0s 5ms/step - loss: 0.5051 - accuracy: 0.7524 - val_loss: 0.4912 - val_accuracy: 0.7468\n",
            "Epoch 57/100\n",
            "20/20 [==============================] - 0s 6ms/step - loss: 0.4979 - accuracy: 0.7476 - val_loss: 0.4920 - val_accuracy: 0.7468\n",
            "Epoch 58/100\n",
            "20/20 [==============================] - 0s 6ms/step - loss: 0.5024 - accuracy: 0.7622 - val_loss: 0.4937 - val_accuracy: 0.7532\n",
            "Epoch 59/100\n",
            "20/20 [==============================] - 0s 5ms/step - loss: 0.4943 - accuracy: 0.7362 - val_loss: 0.4964 - val_accuracy: 0.7532\n",
            "Epoch 60/100\n",
            "20/20 [==============================] - 0s 5ms/step - loss: 0.4932 - accuracy: 0.7590 - val_loss: 0.4991 - val_accuracy: 0.7532\n",
            "Epoch 61/100\n",
            "20/20 [==============================] - 0s 5ms/step - loss: 0.4991 - accuracy: 0.7622 - val_loss: 0.4989 - val_accuracy: 0.7403\n",
            "Epoch 62/100\n",
            "20/20 [==============================] - 0s 6ms/step - loss: 0.4984 - accuracy: 0.7443 - val_loss: 0.4993 - val_accuracy: 0.7273\n",
            "Epoch 63/100\n",
            "20/20 [==============================] - 0s 7ms/step - loss: 0.5001 - accuracy: 0.7541 - val_loss: 0.5023 - val_accuracy: 0.7338\n",
            "Epoch 64/100\n",
            "20/20 [==============================] - 0s 7ms/step - loss: 0.4876 - accuracy: 0.7524 - val_loss: 0.5027 - val_accuracy: 0.7273\n",
            "Epoch 65/100\n",
            "20/20 [==============================] - 0s 7ms/step - loss: 0.4984 - accuracy: 0.7524 - val_loss: 0.5016 - val_accuracy: 0.7273\n",
            "Epoch 66/100\n",
            "20/20 [==============================] - 0s 7ms/step - loss: 0.4843 - accuracy: 0.7638 - val_loss: 0.5014 - val_accuracy: 0.7338\n",
            "Epoch 67/100\n",
            "20/20 [==============================] - 0s 7ms/step - loss: 0.4864 - accuracy: 0.7394 - val_loss: 0.5101 - val_accuracy: 0.7403\n",
            "Epoch 68/100\n",
            "20/20 [==============================] - 0s 8ms/step - loss: 0.4814 - accuracy: 0.7410 - val_loss: 0.5136 - val_accuracy: 0.7338\n",
            "Epoch 69/100\n",
            "20/20 [==============================] - 0s 7ms/step - loss: 0.4796 - accuracy: 0.7638 - val_loss: 0.5143 - val_accuracy: 0.7273\n",
            "Epoch 70/100\n",
            "20/20 [==============================] - 0s 6ms/step - loss: 0.4883 - accuracy: 0.7590 - val_loss: 0.5124 - val_accuracy: 0.7338\n",
            "Epoch 71/100\n",
            "20/20 [==============================] - 0s 6ms/step - loss: 0.4878 - accuracy: 0.7557 - val_loss: 0.5157 - val_accuracy: 0.7403\n",
            "Epoch 72/100\n",
            "20/20 [==============================] - 0s 6ms/step - loss: 0.4741 - accuracy: 0.7476 - val_loss: 0.5190 - val_accuracy: 0.7338\n",
            "Epoch 73/100\n",
            "20/20 [==============================] - 0s 6ms/step - loss: 0.4691 - accuracy: 0.7590 - val_loss: 0.5190 - val_accuracy: 0.7273\n",
            "Epoch 74/100\n",
            "20/20 [==============================] - 0s 5ms/step - loss: 0.4687 - accuracy: 0.7508 - val_loss: 0.5171 - val_accuracy: 0.7208\n",
            "Epoch 75/100\n",
            "20/20 [==============================] - 0s 5ms/step - loss: 0.4843 - accuracy: 0.7524 - val_loss: 0.5154 - val_accuracy: 0.7403\n",
            "Epoch 76/100\n",
            "20/20 [==============================] - 0s 5ms/step - loss: 0.4644 - accuracy: 0.7655 - val_loss: 0.5111 - val_accuracy: 0.7273\n",
            "Epoch 77/100\n",
            "20/20 [==============================] - 0s 5ms/step - loss: 0.5022 - accuracy: 0.7492 - val_loss: 0.5098 - val_accuracy: 0.7273\n",
            "Epoch 78/100\n",
            "20/20 [==============================] - 0s 6ms/step - loss: 0.4776 - accuracy: 0.7508 - val_loss: 0.5079 - val_accuracy: 0.7403\n",
            "Epoch 79/100\n",
            "20/20 [==============================] - 0s 6ms/step - loss: 0.4844 - accuracy: 0.7590 - val_loss: 0.5118 - val_accuracy: 0.7532\n",
            "Epoch 80/100\n",
            "20/20 [==============================] - 0s 5ms/step - loss: 0.4724 - accuracy: 0.7687 - val_loss: 0.5142 - val_accuracy: 0.7468\n",
            "Epoch 81/100\n",
            "20/20 [==============================] - 0s 5ms/step - loss: 0.4726 - accuracy: 0.7638 - val_loss: 0.5121 - val_accuracy: 0.7532\n",
            "Epoch 82/100\n",
            "20/20 [==============================] - 0s 6ms/step - loss: 0.4833 - accuracy: 0.7752 - val_loss: 0.5154 - val_accuracy: 0.7468\n",
            "Epoch 83/100\n",
            "20/20 [==============================] - 0s 6ms/step - loss: 0.4792 - accuracy: 0.7459 - val_loss: 0.5154 - val_accuracy: 0.7403\n",
            "Epoch 84/100\n",
            "20/20 [==============================] - 0s 5ms/step - loss: 0.4842 - accuracy: 0.7573 - val_loss: 0.5098 - val_accuracy: 0.7403\n",
            "Epoch 85/100\n",
            "20/20 [==============================] - 0s 7ms/step - loss: 0.4858 - accuracy: 0.7476 - val_loss: 0.5138 - val_accuracy: 0.7403\n",
            "Epoch 86/100\n",
            "20/20 [==============================] - 0s 5ms/step - loss: 0.4890 - accuracy: 0.7394 - val_loss: 0.5185 - val_accuracy: 0.7403\n",
            "Epoch 87/100\n",
            "20/20 [==============================] - 0s 5ms/step - loss: 0.4618 - accuracy: 0.7687 - val_loss: 0.5148 - val_accuracy: 0.7403\n",
            "Epoch 88/100\n",
            "20/20 [==============================] - 0s 5ms/step - loss: 0.4707 - accuracy: 0.7769 - val_loss: 0.5195 - val_accuracy: 0.7403\n",
            "Epoch 89/100\n",
            "20/20 [==============================] - 0s 5ms/step - loss: 0.4788 - accuracy: 0.7476 - val_loss: 0.5165 - val_accuracy: 0.7403\n",
            "Epoch 90/100\n",
            "20/20 [==============================] - 0s 5ms/step - loss: 0.4685 - accuracy: 0.7687 - val_loss: 0.5120 - val_accuracy: 0.7468\n",
            "Epoch 91/100\n",
            "20/20 [==============================] - 0s 6ms/step - loss: 0.4677 - accuracy: 0.7541 - val_loss: 0.5199 - val_accuracy: 0.7403\n",
            "Epoch 92/100\n",
            "20/20 [==============================] - 0s 6ms/step - loss: 0.4783 - accuracy: 0.7590 - val_loss: 0.5253 - val_accuracy: 0.7468\n",
            "Epoch 93/100\n",
            "20/20 [==============================] - 0s 8ms/step - loss: 0.4760 - accuracy: 0.7557 - val_loss: 0.5206 - val_accuracy: 0.7338\n",
            "Epoch 94/100\n",
            "20/20 [==============================] - 0s 8ms/step - loss: 0.4736 - accuracy: 0.7752 - val_loss: 0.5090 - val_accuracy: 0.7403\n",
            "Epoch 95/100\n",
            "20/20 [==============================] - 0s 8ms/step - loss: 0.4590 - accuracy: 0.7752 - val_loss: 0.5107 - val_accuracy: 0.7532\n",
            "Epoch 96/100\n",
            "20/20 [==============================] - 0s 9ms/step - loss: 0.5128 - accuracy: 0.7362 - val_loss: 0.5079 - val_accuracy: 0.7532\n",
            "Epoch 97/100\n",
            "20/20 [==============================] - 0s 8ms/step - loss: 0.4722 - accuracy: 0.7573 - val_loss: 0.5058 - val_accuracy: 0.7468\n",
            "Epoch 98/100\n",
            "20/20 [==============================] - 0s 8ms/step - loss: 0.4667 - accuracy: 0.7590 - val_loss: 0.5077 - val_accuracy: 0.7468\n",
            "Epoch 99/100\n",
            "20/20 [==============================] - 0s 8ms/step - loss: 0.4724 - accuracy: 0.7541 - val_loss: 0.5171 - val_accuracy: 0.7532\n",
            "Epoch 100/100\n",
            "20/20 [==============================] - 0s 8ms/step - loss: 0.4900 - accuracy: 0.7508 - val_loss: 0.5162 - val_accuracy: 0.7532\n"
          ]
        },
        {
          "output_type": "execute_result",
          "data": {
            "text/plain": [
              "<keras.src.callbacks.History at 0x7af6df0696f0>"
            ]
          },
          "metadata": {},
          "execution_count": 40
        }
      ]
    },
    {
      "cell_type": "code",
      "source": [
        "!zip -r keras-tuner.zip keras-tuner/"
      ],
      "metadata": {
        "colab": {
          "base_uri": "https://localhost:8080/"
        },
        "id": "N3xRTzQxc3ie",
        "outputId": "882d671f-a265-465d-a75f-547222607073"
      },
      "execution_count": 41,
      "outputs": [
        {
          "output_type": "stream",
          "name": "stdout",
          "text": [
            "  adding: keras-tuner/ (stored 0%)\n",
            "  adding: keras-tuner/layer nodes tuning/ (stored 0%)\n",
            "  adding: keras-tuner/layer nodes tuning/trial_03/ (stored 0%)\n",
            "  adding: keras-tuner/layer nodes tuning/trial_03/checkpoint (deflated 48%)\n",
            "  adding: keras-tuner/layer nodes tuning/trial_03/trial.json (deflated 56%)\n",
            "  adding: keras-tuner/layer nodes tuning/trial_03/checkpoint.index (deflated 55%)\n",
            "  adding: keras-tuner/layer nodes tuning/trial_03/checkpoint.data-00000-of-00001 (deflated 14%)\n",
            "  adding: keras-tuner/layer nodes tuning/trial_00/ (stored 0%)\n",
            "  adding: keras-tuner/layer nodes tuning/trial_00/checkpoint (deflated 48%)\n",
            "  adding: keras-tuner/layer nodes tuning/trial_00/trial.json (deflated 56%)\n",
            "  adding: keras-tuner/layer nodes tuning/trial_00/checkpoint.index (deflated 55%)\n",
            "  adding: keras-tuner/layer nodes tuning/trial_00/checkpoint.data-00000-of-00001 (deflated 10%)\n",
            "  adding: keras-tuner/layer nodes tuning/trial_02/ (stored 0%)\n",
            "  adding: keras-tuner/layer nodes tuning/trial_02/checkpoint (deflated 48%)\n",
            "  adding: keras-tuner/layer nodes tuning/trial_02/trial.json (deflated 57%)\n",
            "  adding: keras-tuner/layer nodes tuning/trial_02/checkpoint.index (deflated 55%)\n",
            "  adding: keras-tuner/layer nodes tuning/trial_02/checkpoint.data-00000-of-00001 (deflated 33%)\n",
            "  adding: keras-tuner/layer nodes tuning/trial_07/ (stored 0%)\n",
            "  adding: keras-tuner/layer nodes tuning/trial_07/checkpoint (deflated 48%)\n",
            "  adding: keras-tuner/layer nodes tuning/trial_07/trial.json (deflated 56%)\n",
            "  adding: keras-tuner/layer nodes tuning/trial_07/checkpoint.index (deflated 55%)\n",
            "  adding: keras-tuner/layer nodes tuning/trial_07/checkpoint.data-00000-of-00001 (deflated 17%)\n",
            "  adding: keras-tuner/layer nodes tuning/trial_04/ (stored 0%)\n",
            "  adding: keras-tuner/layer nodes tuning/trial_04/checkpoint (deflated 48%)\n",
            "  adding: keras-tuner/layer nodes tuning/trial_04/trial.json (deflated 56%)\n",
            "  adding: keras-tuner/layer nodes tuning/trial_04/checkpoint.index (deflated 55%)\n",
            "  adding: keras-tuner/layer nodes tuning/trial_04/checkpoint.data-00000-of-00001 (deflated 24%)\n",
            "  adding: keras-tuner/layer nodes tuning/trial_05/ (stored 0%)\n",
            "  adding: keras-tuner/layer nodes tuning/trial_05/checkpoint (deflated 48%)\n",
            "  adding: keras-tuner/layer nodes tuning/trial_05/trial.json (deflated 56%)\n",
            "  adding: keras-tuner/layer nodes tuning/trial_05/checkpoint.index (deflated 55%)\n",
            "  adding: keras-tuner/layer nodes tuning/trial_05/checkpoint.data-00000-of-00001 (deflated 11%)\n",
            "  adding: keras-tuner/layer nodes tuning/trial_09/ (stored 0%)\n",
            "  adding: keras-tuner/layer nodes tuning/trial_09/checkpoint (deflated 48%)\n",
            "  adding: keras-tuner/layer nodes tuning/trial_09/trial.json (deflated 56%)\n",
            "  adding: keras-tuner/layer nodes tuning/trial_09/checkpoint.index (deflated 55%)\n",
            "  adding: keras-tuner/layer nodes tuning/trial_09/checkpoint.data-00000-of-00001 (deflated 15%)\n",
            "  adding: keras-tuner/layer nodes tuning/trial_06/ (stored 0%)\n",
            "  adding: keras-tuner/layer nodes tuning/trial_06/checkpoint (deflated 48%)\n",
            "  adding: keras-tuner/layer nodes tuning/trial_06/trial.json (deflated 56%)\n",
            "  adding: keras-tuner/layer nodes tuning/trial_06/checkpoint.index (deflated 55%)\n",
            "  adding: keras-tuner/layer nodes tuning/trial_06/checkpoint.data-00000-of-00001 (deflated 20%)\n",
            "  adding: keras-tuner/layer nodes tuning/trial_01/ (stored 0%)\n",
            "  adding: keras-tuner/layer nodes tuning/trial_01/checkpoint (deflated 48%)\n",
            "  adding: keras-tuner/layer nodes tuning/trial_01/trial.json (deflated 56%)\n",
            "  adding: keras-tuner/layer nodes tuning/trial_01/checkpoint.index (deflated 55%)\n",
            "  adding: keras-tuner/layer nodes tuning/trial_01/checkpoint.data-00000-of-00001 (deflated 18%)\n",
            "  adding: keras-tuner/layer nodes tuning/trial_08/ (stored 0%)\n",
            "  adding: keras-tuner/layer nodes tuning/trial_08/checkpoint (deflated 48%)\n",
            "  adding: keras-tuner/layer nodes tuning/trial_08/trial.json (deflated 56%)\n",
            "  adding: keras-tuner/layer nodes tuning/trial_08/checkpoint.index (deflated 55%)\n",
            "  adding: keras-tuner/layer nodes tuning/trial_08/checkpoint.data-00000-of-00001 (deflated 12%)\n",
            "  adding: keras-tuner/layer nodes tuning/tuner0.json (stored 0%)\n",
            "  adding: keras-tuner/layer nodes tuning/oracle.json (deflated 62%)\n",
            "  adding: keras-tuner/all in one tuning/ (stored 0%)\n",
            "  adding: keras-tuner/all in one tuning/trial_03/ (stored 0%)\n",
            "  adding: keras-tuner/all in one tuning/trial_03/checkpoint (deflated 48%)\n",
            "  adding: keras-tuner/all in one tuning/trial_03/trial.json (deflated 89%)\n",
            "  adding: keras-tuner/all in one tuning/trial_03/checkpoint.index (deflated 67%)\n",
            "  adding: keras-tuner/all in one tuning/trial_03/checkpoint.data-00000-of-00001 (deflated 49%)\n",
            "  adding: keras-tuner/all in one tuning/trial_00/ (stored 0%)\n",
            "  adding: keras-tuner/all in one tuning/trial_00/checkpoint (deflated 48%)\n",
            "  adding: keras-tuner/all in one tuning/trial_00/trial.json (deflated 65%)\n",
            "  adding: keras-tuner/all in one tuning/trial_00/checkpoint.index (deflated 55%)\n",
            "  adding: keras-tuner/all in one tuning/trial_00/checkpoint.data-00000-of-00001 (deflated 44%)\n",
            "  adding: keras-tuner/all in one tuning/trial_02/ (stored 0%)\n",
            "  adding: keras-tuner/all in one tuning/trial_02/trial.json (deflated 86%)\n",
            "  adding: keras-tuner/all in one tuning/trial_07/ (stored 0%)\n",
            "  adding: keras-tuner/all in one tuning/trial_07/checkpoint (deflated 48%)\n",
            "  adding: keras-tuner/all in one tuning/trial_07/trial.json (deflated 89%)\n",
            "  adding: keras-tuner/all in one tuning/trial_07/checkpoint.index (deflated 69%)\n",
            "  adding: keras-tuner/all in one tuning/trial_07/checkpoint.data-00000-of-00001 (deflated 42%)\n",
            "  adding: keras-tuner/all in one tuning/trial_04/ (stored 0%)\n",
            "  adding: keras-tuner/all in one tuning/trial_04/checkpoint (deflated 48%)\n",
            "  adding: keras-tuner/all in one tuning/trial_04/trial.json (deflated 89%)\n",
            "  adding: keras-tuner/all in one tuning/trial_04/checkpoint.index (deflated 68%)\n",
            "  adding: keras-tuner/all in one tuning/trial_04/checkpoint.data-00000-of-00001 (deflated 42%)\n",
            "  adding: keras-tuner/all in one tuning/trial_05/ (stored 0%)\n",
            "  adding: keras-tuner/all in one tuning/trial_05/trial.json (deflated 86%)\n",
            "  adding: keras-tuner/all in one tuning/trial_09/ (stored 0%)\n",
            "  adding: keras-tuner/all in one tuning/trial_09/checkpoint (deflated 48%)\n",
            "  adding: keras-tuner/all in one tuning/trial_09/trial.json (deflated 89%)\n",
            "  adding: keras-tuner/all in one tuning/trial_09/checkpoint.index (deflated 55%)\n",
            "  adding: keras-tuner/all in one tuning/trial_09/checkpoint.data-00000-of-00001 (deflated 46%)\n",
            "  adding: keras-tuner/all in one tuning/trial_06/ (stored 0%)\n",
            "  adding: keras-tuner/all in one tuning/trial_06/checkpoint (deflated 48%)\n",
            "  adding: keras-tuner/all in one tuning/trial_06/trial.json (deflated 89%)\n",
            "  adding: keras-tuner/all in one tuning/trial_06/checkpoint.index (deflated 72%)\n",
            "  adding: keras-tuner/all in one tuning/trial_06/checkpoint.data-00000-of-00001 (deflated 61%)\n",
            "  adding: keras-tuner/all in one tuning/trial_01/ (stored 0%)\n",
            "  adding: keras-tuner/all in one tuning/trial_01/checkpoint (deflated 48%)\n",
            "  adding: keras-tuner/all in one tuning/trial_01/trial.json (deflated 90%)\n",
            "  adding: keras-tuner/all in one tuning/trial_01/checkpoint.index (deflated 72%)\n",
            "  adding: keras-tuner/all in one tuning/trial_01/checkpoint.data-00000-of-00001 (deflated 42%)\n",
            "  adding: keras-tuner/all in one tuning/trial_08/ (stored 0%)\n",
            "  adding: keras-tuner/all in one tuning/trial_08/trial.json (deflated 86%)\n",
            "  adding: keras-tuner/all in one tuning/tuner0.json (stored 0%)\n",
            "  adding: keras-tuner/all in one tuning/oracle.json (deflated 87%)\n",
            "  adding: keras-tuner/number of layers tuning/ (stored 0%)\n",
            "  adding: keras-tuner/number of layers tuning/trial_03/ (stored 0%)\n",
            "  adding: keras-tuner/number of layers tuning/trial_03/checkpoint (deflated 48%)\n",
            "  adding: keras-tuner/number of layers tuning/trial_03/trial.json (deflated 56%)\n",
            "  adding: keras-tuner/number of layers tuning/trial_03/checkpoint.index (deflated 72%)\n",
            "  adding: keras-tuner/number of layers tuning/trial_03/checkpoint.data-00000-of-00001 (deflated 10%)\n",
            "  adding: keras-tuner/number of layers tuning/trial_00/ (stored 0%)\n",
            "  adding: keras-tuner/number of layers tuning/trial_00/checkpoint (deflated 48%)\n",
            "  adding: keras-tuner/number of layers tuning/trial_00/trial.json (deflated 56%)\n",
            "  adding: keras-tuner/number of layers tuning/trial_00/checkpoint.index (deflated 66%)\n",
            "  adding: keras-tuner/number of layers tuning/trial_00/checkpoint.data-00000-of-00001 (deflated 8%)\n",
            "  adding: keras-tuner/number of layers tuning/trial_02/ (stored 0%)\n",
            "  adding: keras-tuner/number of layers tuning/trial_02/checkpoint (deflated 48%)\n",
            "  adding: keras-tuner/number of layers tuning/trial_02/trial.json (deflated 56%)\n",
            "  adding: keras-tuner/number of layers tuning/trial_02/checkpoint.index (deflated 59%)\n",
            "  adding: keras-tuner/number of layers tuning/trial_02/checkpoint.data-00000-of-00001 (deflated 7%)\n",
            "  adding: keras-tuner/number of layers tuning/trial_07/ (stored 0%)\n",
            "  adding: keras-tuner/number of layers tuning/trial_07/checkpoint (deflated 48%)\n",
            "  adding: keras-tuner/number of layers tuning/trial_07/trial.json (deflated 56%)\n",
            "  adding: keras-tuner/number of layers tuning/trial_07/checkpoint.index (deflated 64%)\n",
            "  adding: keras-tuner/number of layers tuning/trial_07/checkpoint.data-00000-of-00001 (deflated 7%)\n",
            "  adding: keras-tuner/number of layers tuning/trial_04/ (stored 0%)\n",
            "  adding: keras-tuner/number of layers tuning/trial_04/checkpoint (deflated 48%)\n",
            "  adding: keras-tuner/number of layers tuning/trial_04/trial.json (deflated 56%)\n",
            "  adding: keras-tuner/number of layers tuning/trial_04/checkpoint.index (deflated 67%)\n",
            "  adding: keras-tuner/number of layers tuning/trial_04/checkpoint.data-00000-of-00001 (deflated 8%)\n",
            "  adding: keras-tuner/number of layers tuning/trial_05/ (stored 0%)\n",
            "  adding: keras-tuner/number of layers tuning/trial_05/checkpoint (deflated 48%)\n",
            "  adding: keras-tuner/number of layers tuning/trial_05/trial.json (deflated 56%)\n",
            "  adding: keras-tuner/number of layers tuning/trial_05/checkpoint.index (deflated 70%)\n",
            "  adding: keras-tuner/number of layers tuning/trial_05/checkpoint.data-00000-of-00001 (deflated 14%)\n",
            "  adding: keras-tuner/number of layers tuning/trial_09/ (stored 0%)\n",
            "  adding: keras-tuner/number of layers tuning/trial_09/checkpoint (deflated 48%)\n",
            "  adding: keras-tuner/number of layers tuning/trial_09/trial.json (deflated 56%)\n",
            "  adding: keras-tuner/number of layers tuning/trial_09/checkpoint.index (deflated 69%)\n",
            "  adding: keras-tuner/number of layers tuning/trial_09/checkpoint.data-00000-of-00001 (deflated 10%)\n",
            "  adding: keras-tuner/number of layers tuning/trial_06/ (stored 0%)\n",
            "  adding: keras-tuner/number of layers tuning/trial_06/checkpoint (deflated 48%)\n",
            "  adding: keras-tuner/number of layers tuning/trial_06/trial.json (deflated 57%)\n",
            "  adding: keras-tuner/number of layers tuning/trial_06/checkpoint.index (deflated 71%)\n",
            "  adding: keras-tuner/number of layers tuning/trial_06/checkpoint.data-00000-of-00001 (deflated 10%)\n",
            "  adding: keras-tuner/number of layers tuning/trial_01/ (stored 0%)\n",
            "  adding: keras-tuner/number of layers tuning/trial_01/checkpoint (deflated 48%)\n",
            "  adding: keras-tuner/number of layers tuning/trial_01/trial.json (deflated 56%)\n",
            "  adding: keras-tuner/number of layers tuning/trial_01/checkpoint.index (deflated 62%)\n",
            "  adding: keras-tuner/number of layers tuning/trial_01/checkpoint.data-00000-of-00001 (deflated 7%)\n",
            "  adding: keras-tuner/number of layers tuning/trial_08/ (stored 0%)\n",
            "  adding: keras-tuner/number of layers tuning/trial_08/checkpoint (deflated 48%)\n",
            "  adding: keras-tuner/number of layers tuning/trial_08/trial.json (deflated 56%)\n",
            "  adding: keras-tuner/number of layers tuning/trial_08/checkpoint.index (deflated 69%)\n",
            "  adding: keras-tuner/number of layers tuning/trial_08/checkpoint.data-00000-of-00001 (deflated 10%)\n",
            "  adding: keras-tuner/number of layers tuning/tuner0.json (stored 0%)\n",
            "  adding: keras-tuner/number of layers tuning/oracle.json (deflated 62%)\n",
            "  adding: keras-tuner/optimizer tuning/ (stored 0%)\n",
            "  adding: keras-tuner/optimizer tuning/trial_03/ (stored 0%)\n",
            "  adding: keras-tuner/optimizer tuning/trial_03/trial.json (deflated 62%)\n",
            "  adding: keras-tuner/optimizer tuning/trial_00/ (stored 0%)\n",
            "  adding: keras-tuner/optimizer tuning/trial_00/trial.json (deflated 63%)\n",
            "  adding: keras-tuner/optimizer tuning/trial_02/ (stored 0%)\n",
            "  adding: keras-tuner/optimizer tuning/trial_02/checkpoint (deflated 48%)\n",
            "  adding: keras-tuner/optimizer tuning/trial_02/trial.json (deflated 56%)\n",
            "  adding: keras-tuner/optimizer tuning/trial_02/checkpoint.index (deflated 49%)\n",
            "  adding: keras-tuner/optimizer tuning/trial_02/checkpoint.data-00000-of-00001 (deflated 24%)\n",
            "  adding: keras-tuner/optimizer tuning/trial_07/ (stored 0%)\n",
            "  adding: keras-tuner/optimizer tuning/trial_07/checkpoint (deflated 48%)\n",
            "  adding: keras-tuner/optimizer tuning/trial_07/trial.json (deflated 56%)\n",
            "  adding: keras-tuner/optimizer tuning/trial_07/checkpoint.index (deflated 49%)\n",
            "  adding: keras-tuner/optimizer tuning/trial_07/checkpoint.data-00000-of-00001 (deflated 25%)\n",
            "  adding: keras-tuner/optimizer tuning/trial_04/ (stored 0%)\n",
            "  adding: keras-tuner/optimizer tuning/trial_04/checkpoint (deflated 48%)\n",
            "  adding: keras-tuner/optimizer tuning/trial_04/trial.json (deflated 56%)\n",
            "  adding: keras-tuner/optimizer tuning/trial_04/checkpoint.index (deflated 55%)\n",
            "  adding: keras-tuner/optimizer tuning/trial_04/checkpoint.data-00000-of-00001 (deflated 26%)\n",
            "  adding: keras-tuner/optimizer tuning/trial_05/ (stored 0%)\n",
            "  adding: keras-tuner/optimizer tuning/trial_05/trial.json (deflated 62%)\n",
            "  adding: keras-tuner/optimizer tuning/trial_09/ (stored 0%)\n",
            "  adding: keras-tuner/optimizer tuning/trial_09/checkpoint (deflated 48%)\n",
            "  adding: keras-tuner/optimizer tuning/trial_09/trial.json (deflated 56%)\n",
            "  adding: keras-tuner/optimizer tuning/trial_09/checkpoint.index (deflated 55%)\n",
            "  adding: keras-tuner/optimizer tuning/trial_09/checkpoint.data-00000-of-00001 (deflated 26%)\n",
            "  adding: keras-tuner/optimizer tuning/trial_06/ (stored 0%)\n",
            "  adding: keras-tuner/optimizer tuning/trial_06/checkpoint (deflated 48%)\n",
            "  adding: keras-tuner/optimizer tuning/trial_06/trial.json (deflated 56%)\n",
            "  adding: keras-tuner/optimizer tuning/trial_06/checkpoint.index (deflated 55%)\n",
            "  adding: keras-tuner/optimizer tuning/trial_06/checkpoint.data-00000-of-00001 (deflated 24%)\n",
            "  adding: keras-tuner/optimizer tuning/trial_01/ (stored 0%)\n",
            "  adding: keras-tuner/optimizer tuning/trial_01/checkpoint (deflated 48%)\n",
            "  adding: keras-tuner/optimizer tuning/trial_01/trial.json (deflated 56%)\n",
            "  adding: keras-tuner/optimizer tuning/trial_01/checkpoint.index (deflated 49%)\n",
            "  adding: keras-tuner/optimizer tuning/trial_01/checkpoint.data-00000-of-00001 (deflated 26%)\n",
            "  adding: keras-tuner/optimizer tuning/trial_08/ (stored 0%)\n",
            "  adding: keras-tuner/optimizer tuning/trial_08/checkpoint (deflated 48%)\n",
            "  adding: keras-tuner/optimizer tuning/trial_08/trial.json (deflated 56%)\n",
            "  adding: keras-tuner/optimizer tuning/trial_08/checkpoint.index (deflated 55%)\n",
            "  adding: keras-tuner/optimizer tuning/trial_08/checkpoint.data-00000-of-00001 (deflated 25%)\n",
            "  adding: keras-tuner/optimizer tuning/tuner0.json (stored 0%)\n",
            "  adding: keras-tuner/optimizer tuning/oracle.json (deflated 62%)\n"
          ]
        }
      ]
    },
    {
      "cell_type": "code",
      "source": [],
      "metadata": {
        "id": "XXgYbR_beM-X"
      },
      "execution_count": null,
      "outputs": []
    }
  ]
}